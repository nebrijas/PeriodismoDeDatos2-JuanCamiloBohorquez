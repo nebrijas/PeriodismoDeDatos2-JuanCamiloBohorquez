{
 "cells": [
  {
   "cell_type": "markdown",
   "id": "ff3d2cb9",
   "metadata": {},
   "source": [
    "# Práctica de web Scraping"
   ]
  },
  {
   "cell_type": "markdown",
   "id": "a7fbea6e",
   "metadata": {},
   "source": [
    "Voy a importar de la librería [bs4](https://www.crummy.com/software/BeautifulSoup/bs4/doc/) `BeautifulSoup`"
   ]
  },
  {
   "cell_type": "code",
   "execution_count": 5,
   "id": "2cf1089e",
   "metadata": {},
   "outputs": [],
   "source": [
    "from bs4 import BeautifulSoup"
   ]
  },
  {
   "cell_type": "markdown",
   "id": "f71ad1c1",
   "metadata": {},
   "source": [
    "Ahora importo la librería [request](https://docs.python-requests.org/en/latest/)"
   ]
  },
  {
   "cell_type": "code",
   "execution_count": 8,
   "id": "2644a2af",
   "metadata": {},
   "outputs": [],
   "source": [
    "\n",
    "import requests"
   ]
  },
  {
   "cell_type": "code",
   "execution_count": null,
   "id": "5c103776",
   "metadata": {},
   "outputs": [],
   "source": [
    "\n"
   ]
  },
  {
   "cell_type": "code",
   "execution_count": null,
   "id": "ea6e378c",
   "metadata": {},
   "outputs": [],
   "source": []
  },
  {
   "cell_type": "code",
   "execution_count": null,
   "id": "9a7ba46e",
   "metadata": {
    "scrolled": true
   },
   "outputs": [],
   "source": [
    "respuesta=input('¿QUIERES CONOCER LOS 20 PAÍSES QUE HAN OBTENIDO MÁS MEDALLAS EN 2020?\\n \\n Si tu respuesta es Sí, presiona \"s\" \\n')\n",
    "if(respuesta == 's'): \n",
    "  print('\\nRESULTADOS DE LOS DATOS DE LOS JUEGOS OLÍMPICOS 2020\\n')\n",
    "  print ('PAÍSES')\n",
    "  URL = \"https://resultados.elpais.com/deportivos/juegos-olimpicos/medallero/\"\n",
    "  # Realizamos la petición a la web\n",
    "  req = requests.get(URL)\n",
    "  # Si el estatus code no es 200 no se puede leer la página\n",
    "  if (req.status_code != 200):\n",
    "    raise Exception(\"No se puede hacer Web Scraping en\"+ URL)\n",
    "  # Pasamos el contenido HTML de la web a un objeto BeautifulSoup()\n",
    "  html = BeautifulSoup(req.text, \"html.parser\")\n",
    "  # Obtenemos todos los divs donde están las entradas\n",
    "  paises = html.find_all(\"th\",{\"class\":\"pais\"})\n",
    "  oros = html.find_all(\"td\",{\"class\":\"m_oro\"})\n",
    "  platas = html.find_all(\"td\",{\"class\":\"m_plata\"})\n",
    "  bronces = html.find_all(\"td\",{\"class\":\"m_bronce\"})\n",
    "  totales = html.find_all(\"td\",{\"class\":\"m_total\"})\n",
    "  for i in range (20):\n",
    "    # Con el método \"getText()\" no nos devuelve el HTML\n",
    "    print(\"%d. %s \\nOro: %s Plata: %s Bronce: %s \\n Total: %s \\n \" % (i+1, paises[i+1].text.strip(),oros[i].text.strip(),platas[i].text.strip(),bronces[i].text.strip(), totales[i].text.strip()))\n",
    "\n",
    "else:\n",
    "  print('Qué lástima, y...')"
   ]
  },
  {
   "cell_type": "markdown",
   "id": "4ae9a346",
   "metadata": {},
   "source": [
    "## Variables\n"
   ]
  },
  {
   "cell_type": "markdown",
   "id": "81d37789",
   "metadata": {},
   "source": [
    "Explicación de variables"
   ]
  },
  {
   "cell_type": "markdown",
   "id": "5bf8a9fa",
   "metadata": {},
   "source": [
    "## Definimos URL"
   ]
  },
  {
   "cell_type": "code",
   "execution_count": null,
   "id": "d43fac79",
   "metadata": {},
   "outputs": [],
   "source": [
    " URL = \"https://resultados.elpais.com/deportivos/juegos-olimpicos/medallero/\""
   ]
  },
  {
   "cell_type": "markdown",
   "id": "de0bfa2e",
   "metadata": {},
   "source": [
    "## Realizamos la petición a la web "
   ]
  },
  {
   "cell_type": "code",
   "execution_count": null,
   "id": "eafb1e78",
   "metadata": {},
   "outputs": [],
   "source": [
    "req = requests.get(URL)"
   ]
  },
  {
   "cell_type": "markdown",
   "id": "2001852f",
   "metadata": {},
   "source": [
    "## De requestes a BeautifulSoup"
   ]
  },
  {
   "cell_type": "markdown",
   "id": "6e05a95d",
   "metadata": {},
   "source": [
    "Pasamos el contenido HTML de la web a un objeto 'BeatifulSoup()'"
   ]
  },
  {
   "cell_type": "code",
   "execution_count": null,
   "id": "e85736e2",
   "metadata": {},
   "outputs": [],
   "source": [
    "  html = BeautifulSoup(req.text, \"html.parser\")"
   ]
  },
  {
   "cell_type": "markdown",
   "id": "af01b6e9",
   "metadata": {},
   "source": [
    "### Variables de datos"
   ]
  },
  {
   "cell_type": "markdown",
   "id": "d9ad8ffe",
   "metadata": {},
   "source": [
    "Definimos las variables paises, oros, etc y las identificamos con la funcion find_all"
   ]
  },
  {
   "cell_type": "code",
   "execution_count": null,
   "id": "df1e506c",
   "metadata": {},
   "outputs": [],
   "source": [
    "paises = html.find_all(\"th\",{\"class\":\"pais\"})\n",
    "oros = html.find_all(\"td\",{\"class\":\"m_oro\"})\n",
    "platas = html.find_all(\"td\",{\"class\":\"m_plata\"})\n",
    "bronces = html.find_all(\"td\",{\"class\":\"m_bronce\"})\n",
    "totales = html.find_all(\"td\",{\"class\":\"m_total\"})"
   ]
  },
  {
   "cell_type": "markdown",
   "id": "941caf16",
   "metadata": {},
   "source": [
    "## Hacemos la pregunta "
   ]
  },
  {
   "cell_type": "code",
   "execution_count": null,
   "id": "b428c7a3",
   "metadata": {},
   "outputs": [],
   "source": [
    "respuesta=input('¿QUIERES CONOCER LOS 20 PAÍSES QUE HAN OBTENIDO MÁS MEDALLAS EN 2020?\\n \\n Si tu respuesta es Sí, presiona \"s\" \\n')\n",
    "if(respuesta == 's'): \n",
    "  print('Vale, vamos a ello')"
   ]
  },
  {
   "cell_type": "markdown",
   "id": "2125b252",
   "metadata": {},
   "source": [
    "## Bucle para obetern los datos"
   ]
  },
  {
   "cell_type": "code",
   "execution_count": 4,
   "id": "65e25d72",
   "metadata": {},
   "outputs": [
    {
     "ename": "IndentationError",
     "evalue": "unindent does not match any outer indentation level (<tokenize>, line 3)",
     "output_type": "error",
     "traceback": [
      "\u001b[1;36m  File \u001b[1;32m\"<tokenize>\"\u001b[1;36m, line \u001b[1;32m3\u001b[0m\n\u001b[1;33m    for i in range (20):\u001b[0m\n\u001b[1;37m    ^\u001b[0m\n\u001b[1;31mIndentationError\u001b[0m\u001b[1;31m:\u001b[0m unindent does not match any outer indentation level\n"
     ]
    }
   ],
   "source": [
    "print('\\nRESULTADOS DE LOS DATOS DE LOS JUEGOS OLÍMPICOS 2020\\n')\n",
    "  print ('PAÍSES')\n",
    " for i in range (20):\n",
    "    # Con el método \"getText()\" no nos devuelve el HTML\n",
    "    print(\"%d. %s \\nOro: %s Plata: %s Bronce: %s \\n Total: %s \\n \" % (i+1, paises[i+1].text.strip(),oros[i].text.strip(),platas[i].text.strip(),bronces[i].text.strip(), totales[i].text.strip()))\n",
    "\n",
    "    else: \n",
    "        print('Qué lastima...')"
   ]
  },
  {
   "cell_type": "code",
   "execution_count": null,
   "id": "12f1f503",
   "metadata": {},
   "outputs": [],
   "source": []
  }
 ],
 "metadata": {
  "kernelspec": {
   "display_name": "Python 3",
   "language": "python",
   "name": "python3"
  },
  "language_info": {
   "codemirror_mode": {
    "name": "ipython",
    "version": 3
   },
   "file_extension": ".py",
   "mimetype": "text/x-python",
   "name": "python",
   "nbconvert_exporter": "python",
   "pygments_lexer": "ipython3",
   "version": "3.8.8"
  }
 },
 "nbformat": 4,
 "nbformat_minor": 5
}
