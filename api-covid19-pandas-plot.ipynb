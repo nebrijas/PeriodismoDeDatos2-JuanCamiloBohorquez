{
 "cells": [
  {
   "cell_type": "markdown",
   "id": "fcc0fd2c",
   "metadata": {},
   "source": [
    "# Uso de API de Covid19 con Pandas"
   ]
  },
  {
   "cell_type": "markdown",
   "id": "5cb53bef",
   "metadata": {},
   "source": [
    "https://covid19api.com/"
   ]
  },
  {
   "cell_type": "markdown",
   "id": "af6e62b7",
   "metadata": {},
   "source": [
    "https://api.covid19api.com/"
   ]
  },
  {
   "cell_type": "markdown",
   "id": "b977a2c9",
   "metadata": {},
   "source": [
    "# Instalación pandas"
   ]
  },
  {
   "cell_type": "code",
   "execution_count": 1,
   "id": "53788655",
   "metadata": {},
   "outputs": [
    {
     "name": "stdout",
     "output_type": "stream",
     "text": [
      "Requirement already satisfied: pandas in c:\\programdata\\anaconda3\\lib\\site-packages (1.2.4)\n",
<<<<<<< HEAD
      "Requirement already satisfied: python-dateutil>=2.7.3 in c:\\programdata\\anaconda3\\lib\\site-packages (from pandas) (2.8.1)\n",
      "Requirement already satisfied: pytz>=2017.3 in c:\\programdata\\anaconda3\\lib\\site-packages (from pandas) (2021.1)\n",
      "Requirement already satisfied: numpy>=1.16.5 in c:\\programdata\\anaconda3\\lib\\site-packages (from pandas) (1.20.1)\n",
=======
      "Requirement already satisfied: numpy>=1.16.5 in c:\\programdata\\anaconda3\\lib\\site-packages (from pandas) (1.20.1)\n",
      "Requirement already satisfied: pytz>=2017.3 in c:\\programdata\\anaconda3\\lib\\site-packages (from pandas) (2021.1)\n",
      "Requirement already satisfied: python-dateutil>=2.7.3 in c:\\programdata\\anaconda3\\lib\\site-packages (from pandas) (2.8.1)\n",
>>>>>>> ab98c929639cbecc88617c0fc74767f6e3b5df7e
      "Requirement already satisfied: six>=1.5 in c:\\programdata\\anaconda3\\lib\\site-packages (from python-dateutil>=2.7.3->pandas) (1.15.0)\n"
     ]
    }
   ],
   "source": [
    "!pip install pandas"
   ]
  },
  {
   "cell_type": "markdown",
   "id": "769c9ba3",
   "metadata": {},
   "source": [
    "# Configuración "
   ]
  },
  {
   "cell_type": "code",
   "execution_count": 2,
   "id": "0b9ed586",
   "metadata": {},
   "outputs": [],
   "source": [
    "import pandas as pd "
   ]
  },
  {
   "cell_type": "markdown",
   "id": "df118fdc",
   "metadata": {},
   "source": [
    "# Variables "
   ]
  },
  {
   "cell_type": "code",
   "execution_count": 3,
   "id": "1a00fc74",
   "metadata": {},
   "outputs": [],
   "source": [
    "url = 'https://api.covid19api.com/countries'"
   ]
  },
  {
   "cell_type": "code",
   "execution_count": 4,
   "id": "cc681f2a",
   "metadata": {},
   "outputs": [
    {
     "data": {
      "text/plain": [
       "'https://api.covid19api.com/countries'"
      ]
     },
     "execution_count": 4,
     "metadata": {},
     "output_type": "execute_result"
    }
   ],
   "source": [
    "url"
   ]
  },
  {
   "cell_type": "markdown",
   "id": "73a83969",
   "metadata": {},
   "source": [
    "## Creación de *Dataframes* \n",
    "Utilizamos la función `read_json` para leer los datos JSON de la API:"
   ]
  },
  {
   "cell_type": "code",
   "execution_count": 5,
   "id": "5fdb0b46",
   "metadata": {},
   "outputs": [],
   "source": [
    "df = pd.read_json(url)"
   ]
  },
  {
   "cell_type": "code",
   "execution_count": 6,
   "id": "94a71809",
   "metadata": {},
   "outputs": [
    {
     "data": {
      "text/html": [
       "<div>\n",
       "<style scoped>\n",
       "    .dataframe tbody tr th:only-of-type {\n",
       "        vertical-align: middle;\n",
       "    }\n",
       "\n",
       "    .dataframe tbody tr th {\n",
       "        vertical-align: top;\n",
       "    }\n",
       "\n",
       "    .dataframe thead th {\n",
       "        text-align: right;\n",
       "    }\n",
       "</style>\n",
       "<table border=\"1\" class=\"dataframe\">\n",
       "  <thead>\n",
       "    <tr style=\"text-align: right;\">\n",
       "      <th></th>\n",
       "      <th>Country</th>\n",
       "      <th>Slug</th>\n",
       "      <th>ISO2</th>\n",
       "    </tr>\n",
       "  </thead>\n",
       "  <tbody>\n",
       "    <tr>\n",
       "      <th>0</th>\n",
       "      <td>Martinique</td>\n",
       "      <td>martinique</td>\n",
       "      <td>MQ</td>\n",
       "    </tr>\n",
       "    <tr>\n",
       "      <th>1</th>\n",
       "      <td>Uruguay</td>\n",
       "      <td>uruguay</td>\n",
       "      <td>UY</td>\n",
       "    </tr>\n",
       "    <tr>\n",
       "      <th>2</th>\n",
       "      <td>Kazakhstan</td>\n",
       "      <td>kazakhstan</td>\n",
       "      <td>KZ</td>\n",
       "    </tr>\n",
       "    <tr>\n",
       "      <th>3</th>\n",
       "      <td>Lebanon</td>\n",
       "      <td>lebanon</td>\n",
       "      <td>LB</td>\n",
       "    </tr>\n",
       "    <tr>\n",
       "      <th>4</th>\n",
       "      <td>Morocco</td>\n",
       "      <td>morocco</td>\n",
       "      <td>MA</td>\n",
       "    </tr>\n",
       "    <tr>\n",
       "      <th>...</th>\n",
       "      <td>...</td>\n",
       "      <td>...</td>\n",
       "      <td>...</td>\n",
       "    </tr>\n",
       "    <tr>\n",
       "      <th>243</th>\n",
       "      <td>Dominican Republic</td>\n",
       "      <td>dominican-republic</td>\n",
       "      <td>DO</td>\n",
       "    </tr>\n",
       "    <tr>\n",
       "      <th>244</th>\n",
       "      <td>Liberia</td>\n",
       "      <td>liberia</td>\n",
       "      <td>LR</td>\n",
       "    </tr>\n",
       "    <tr>\n",
       "      <th>245</th>\n",
       "      <td>Monaco</td>\n",
       "      <td>monaco</td>\n",
       "      <td>MC</td>\n",
       "    </tr>\n",
       "    <tr>\n",
       "      <th>246</th>\n",
       "      <td>Nigeria</td>\n",
       "      <td>nigeria</td>\n",
       "      <td>NG</td>\n",
       "    </tr>\n",
       "    <tr>\n",
       "      <th>247</th>\n",
       "      <td>Paraguay</td>\n",
       "      <td>paraguay</td>\n",
       "      <td>PY</td>\n",
       "    </tr>\n",
       "  </tbody>\n",
       "</table>\n",
       "<p>248 rows × 3 columns</p>\n",
       "</div>"
      ],
      "text/plain": [
       "                Country                Slug ISO2\n",
       "0            Martinique          martinique   MQ\n",
       "1               Uruguay             uruguay   UY\n",
       "2            Kazakhstan          kazakhstan   KZ\n",
       "3               Lebanon             lebanon   LB\n",
       "4               Morocco             morocco   MA\n",
       "..                  ...                 ...  ...\n",
       "243  Dominican Republic  dominican-republic   DO\n",
       "244             Liberia             liberia   LR\n",
       "245              Monaco              monaco   MC\n",
       "246             Nigeria             nigeria   NG\n",
       "247            Paraguay            paraguay   PY\n",
       "\n",
       "[248 rows x 3 columns]"
      ]
     },
     "execution_count": 6,
     "metadata": {},
     "output_type": "execute_result"
    }
   ],
   "source": [
    "df"
   ]
  },
  {
   "cell_type": "markdown",
   "id": "acc1f27c",
   "metadata": {},
   "source": [
    "# Explorar tabla \n",
    "- Cabecera\n",
    "- Cola\n",
    "- Descripción "
   ]
  },
  {
   "cell_type": "code",
   "execution_count": 7,
   "id": "3edeb279",
   "metadata": {},
   "outputs": [
    {
     "data": {
      "text/html": [
       "<div>\n",
       "<style scoped>\n",
       "    .dataframe tbody tr th:only-of-type {\n",
       "        vertical-align: middle;\n",
       "    }\n",
       "\n",
       "    .dataframe tbody tr th {\n",
       "        vertical-align: top;\n",
       "    }\n",
       "\n",
       "    .dataframe thead th {\n",
       "        text-align: right;\n",
       "    }\n",
       "</style>\n",
       "<table border=\"1\" class=\"dataframe\">\n",
       "  <thead>\n",
       "    <tr style=\"text-align: right;\">\n",
       "      <th></th>\n",
       "      <th>Country</th>\n",
       "      <th>Slug</th>\n",
       "      <th>ISO2</th>\n",
       "    </tr>\n",
       "  </thead>\n",
       "  <tbody>\n",
       "    <tr>\n",
       "      <th>0</th>\n",
       "      <td>Martinique</td>\n",
       "      <td>martinique</td>\n",
       "      <td>MQ</td>\n",
       "    </tr>\n",
       "    <tr>\n",
       "      <th>1</th>\n",
       "      <td>Uruguay</td>\n",
       "      <td>uruguay</td>\n",
       "      <td>UY</td>\n",
       "    </tr>\n",
       "    <tr>\n",
       "      <th>2</th>\n",
       "      <td>Kazakhstan</td>\n",
       "      <td>kazakhstan</td>\n",
       "      <td>KZ</td>\n",
       "    </tr>\n",
       "    <tr>\n",
       "      <th>3</th>\n",
       "      <td>Lebanon</td>\n",
       "      <td>lebanon</td>\n",
       "      <td>LB</td>\n",
       "    </tr>\n",
       "    <tr>\n",
       "      <th>4</th>\n",
       "      <td>Morocco</td>\n",
       "      <td>morocco</td>\n",
       "      <td>MA</td>\n",
       "    </tr>\n",
       "  </tbody>\n",
       "</table>\n",
       "</div>"
      ],
      "text/plain": [
       "      Country        Slug ISO2\n",
       "0  Martinique  martinique   MQ\n",
       "1     Uruguay     uruguay   UY\n",
       "2  Kazakhstan  kazakhstan   KZ\n",
       "3     Lebanon     lebanon   LB\n",
       "4     Morocco     morocco   MA"
      ]
     },
     "execution_count": 7,
     "metadata": {},
     "output_type": "execute_result"
    }
   ],
   "source": [
    "df.head()"
   ]
  },
  {
   "cell_type": "code",
   "execution_count": 8,
   "id": "c45ce1ef",
   "metadata": {},
   "outputs": [
    {
     "data": {
      "text/html": [
       "<div>\n",
       "<style scoped>\n",
       "    .dataframe tbody tr th:only-of-type {\n",
       "        vertical-align: middle;\n",
       "    }\n",
       "\n",
       "    .dataframe tbody tr th {\n",
       "        vertical-align: top;\n",
       "    }\n",
       "\n",
       "    .dataframe thead th {\n",
       "        text-align: right;\n",
       "    }\n",
       "</style>\n",
       "<table border=\"1\" class=\"dataframe\">\n",
       "  <thead>\n",
       "    <tr style=\"text-align: right;\">\n",
       "      <th></th>\n",
       "      <th>Country</th>\n",
       "      <th>Slug</th>\n",
       "      <th>ISO2</th>\n",
       "    </tr>\n",
       "  </thead>\n",
       "  <tbody>\n",
       "    <tr>\n",
       "      <th>243</th>\n",
       "      <td>Dominican Republic</td>\n",
       "      <td>dominican-republic</td>\n",
       "      <td>DO</td>\n",
       "    </tr>\n",
       "    <tr>\n",
       "      <th>244</th>\n",
       "      <td>Liberia</td>\n",
       "      <td>liberia</td>\n",
       "      <td>LR</td>\n",
       "    </tr>\n",
       "    <tr>\n",
       "      <th>245</th>\n",
       "      <td>Monaco</td>\n",
       "      <td>monaco</td>\n",
       "      <td>MC</td>\n",
       "    </tr>\n",
       "    <tr>\n",
       "      <th>246</th>\n",
       "      <td>Nigeria</td>\n",
       "      <td>nigeria</td>\n",
       "      <td>NG</td>\n",
       "    </tr>\n",
       "    <tr>\n",
       "      <th>247</th>\n",
       "      <td>Paraguay</td>\n",
       "      <td>paraguay</td>\n",
       "      <td>PY</td>\n",
       "    </tr>\n",
       "  </tbody>\n",
       "</table>\n",
       "</div>"
      ],
      "text/plain": [
       "                Country                Slug ISO2\n",
       "243  Dominican Republic  dominican-republic   DO\n",
       "244             Liberia             liberia   LR\n",
       "245              Monaco              monaco   MC\n",
       "246             Nigeria             nigeria   NG\n",
       "247            Paraguay            paraguay   PY"
      ]
     },
     "execution_count": 8,
     "metadata": {},
     "output_type": "execute_result"
    }
   ],
   "source": [
    "df.tail()"
   ]
  },
  {
   "cell_type": "code",
   "execution_count": 9,
   "id": "fd62c9dc",
   "metadata": {},
   "outputs": [
    {
     "data": {
      "text/html": [
       "<div>\n",
       "<style scoped>\n",
       "    .dataframe tbody tr th:only-of-type {\n",
       "        vertical-align: middle;\n",
       "    }\n",
       "\n",
       "    .dataframe tbody tr th {\n",
       "        vertical-align: top;\n",
       "    }\n",
       "\n",
       "    .dataframe thead th {\n",
       "        text-align: right;\n",
       "    }\n",
       "</style>\n",
       "<table border=\"1\" class=\"dataframe\">\n",
       "  <thead>\n",
       "    <tr style=\"text-align: right;\">\n",
       "      <th></th>\n",
       "      <th>Country</th>\n",
       "      <th>Slug</th>\n",
       "      <th>ISO2</th>\n",
       "    </tr>\n",
       "  </thead>\n",
       "  <tbody>\n",
       "    <tr>\n",
       "      <th>count</th>\n",
       "      <td>248</td>\n",
       "      <td>248</td>\n",
       "      <td>248</td>\n",
       "    </tr>\n",
       "    <tr>\n",
       "      <th>unique</th>\n",
       "      <td>248</td>\n",
       "      <td>248</td>\n",
       "      <td>248</td>\n",
       "    </tr>\n",
       "    <tr>\n",
       "      <th>top</th>\n",
       "      <td>Armenia</td>\n",
       "      <td>moldova</td>\n",
       "      <td>TR</td>\n",
       "    </tr>\n",
       "    <tr>\n",
       "      <th>freq</th>\n",
       "      <td>1</td>\n",
       "      <td>1</td>\n",
       "      <td>1</td>\n",
       "    </tr>\n",
       "  </tbody>\n",
       "</table>\n",
       "</div>"
      ],
      "text/plain": [
       "        Country     Slug ISO2\n",
       "count       248      248  248\n",
       "unique      248      248  248\n",
       "top     Armenia  moldova   TR\n",
       "freq          1        1    1"
      ]
     },
     "execution_count": 9,
     "metadata": {},
     "output_type": "execute_result"
    }
   ],
   "source": [
    "df.describe()"
   ]
  },
  {
   "cell_type": "code",
   "execution_count": 10,
   "id": "f7b38f29",
   "metadata": {},
   "outputs": [
    {
     "name": "stdout",
     "output_type": "stream",
     "text": [
      "<class 'pandas.core.frame.DataFrame'>\n",
      "RangeIndex: 248 entries, 0 to 247\n",
      "Data columns (total 3 columns):\n",
      " #   Column   Non-Null Count  Dtype \n",
      "---  ------   --------------  ----- \n",
      " 0   Country  248 non-null    object\n",
      " 1   Slug     248 non-null    object\n",
      " 2   ISO2     248 non-null    object\n",
      "dtypes: object(3)\n",
      "memory usage: 5.9+ KB\n"
     ]
    }
   ],
   "source": [
    "df.info()"
   ]
  },
  {
   "cell_type": "markdown",
   "id": "75fab352",
   "metadata": {},
   "source": [
    "# Acceso a datos "
   ]
  },
  {
   "cell_type": "code",
   "execution_count": 11,
   "id": "7ee0cf9d",
   "metadata": {},
   "outputs": [
    {
     "data": {
      "text/plain": [
       "0              Martinique\n",
       "1                 Uruguay\n",
       "2              Kazakhstan\n",
       "3                 Lebanon\n",
       "4                 Morocco\n",
       "              ...        \n",
       "243    Dominican Republic\n",
       "244               Liberia\n",
       "245                Monaco\n",
       "246               Nigeria\n",
       "247              Paraguay\n",
       "Name: Country, Length: 248, dtype: object"
      ]
     },
     "execution_count": 11,
     "metadata": {},
     "output_type": "execute_result"
    }
   ],
   "source": [
    "df['Country']"
   ]
  },
  {
   "cell_type": "code",
   "execution_count": 12,
   "id": "198f8b70",
   "metadata": {},
   "outputs": [
    {
     "data": {
      "text/plain": [
<<<<<<< HEAD
       "'Sri Lanka'"
=======
       "'Kazakhstan'"
>>>>>>> ab98c929639cbecc88617c0fc74767f6e3b5df7e
      ]
     },
     "execution_count": 12,
     "metadata": {},
     "output_type": "execute_result"
    }
   ],
   "source": [
    "df['Country'][2]"
   ]
  },
  {
   "cell_type": "markdown",
   "id": "1e04bc92",
   "metadata": {},
   "source": [
    "# Tiempo real"
   ]
  },
  {
   "cell_type": "code",
   "execution_count": 13,
   "id": "7b905a1c",
   "metadata": {},
   "outputs": [
    {
     "data": {
      "text/html": [
       "<div>\n",
       "<style scoped>\n",
       "    .dataframe tbody tr th:only-of-type {\n",
       "        vertical-align: middle;\n",
       "    }\n",
       "\n",
       "    .dataframe tbody tr th {\n",
       "        vertical-align: top;\n",
       "    }\n",
       "\n",
       "    .dataframe thead th {\n",
       "        text-align: right;\n",
       "    }\n",
       "</style>\n",
       "<table border=\"1\" class=\"dataframe\">\n",
       "  <thead>\n",
       "    <tr style=\"text-align: right;\">\n",
       "      <th></th>\n",
       "      <th>Country</th>\n",
       "      <th>CountryCode</th>\n",
       "      <th>Province</th>\n",
       "      <th>City</th>\n",
       "      <th>CityCode</th>\n",
       "      <th>Lat</th>\n",
       "      <th>Lon</th>\n",
       "      <th>Cases</th>\n",
       "      <th>Status</th>\n",
       "      <th>Date</th>\n",
       "    </tr>\n",
       "  </thead>\n",
       "  <tbody>\n",
       "    <tr>\n",
       "      <th>0</th>\n",
       "      <td>Spain</td>\n",
       "      <td>ES</td>\n",
       "      <td></td>\n",
       "      <td></td>\n",
       "      <td></td>\n",
       "      <td>40.46</td>\n",
       "      <td>-3.75</td>\n",
       "      <td>0</td>\n",
       "      <td>confirmed</td>\n",
       "      <td>2020-01-22 00:00:00+00:00</td>\n",
       "    </tr>\n",
       "    <tr>\n",
       "      <th>1</th>\n",
       "      <td>Spain</td>\n",
       "      <td>ES</td>\n",
       "      <td></td>\n",
       "      <td></td>\n",
       "      <td></td>\n",
       "      <td>40.46</td>\n",
       "      <td>-3.75</td>\n",
       "      <td>0</td>\n",
       "      <td>confirmed</td>\n",
       "      <td>2020-01-23 00:00:00+00:00</td>\n",
       "    </tr>\n",
       "    <tr>\n",
       "      <th>2</th>\n",
       "      <td>Spain</td>\n",
       "      <td>ES</td>\n",
       "      <td></td>\n",
       "      <td></td>\n",
       "      <td></td>\n",
       "      <td>40.46</td>\n",
       "      <td>-3.75</td>\n",
       "      <td>0</td>\n",
       "      <td>confirmed</td>\n",
       "      <td>2020-01-24 00:00:00+00:00</td>\n",
       "    </tr>\n",
       "    <tr>\n",
       "      <th>3</th>\n",
       "      <td>Spain</td>\n",
       "      <td>ES</td>\n",
       "      <td></td>\n",
       "      <td></td>\n",
       "      <td></td>\n",
       "      <td>40.46</td>\n",
       "      <td>-3.75</td>\n",
       "      <td>0</td>\n",
       "      <td>confirmed</td>\n",
       "      <td>2020-01-25 00:00:00+00:00</td>\n",
       "    </tr>\n",
       "    <tr>\n",
       "      <th>4</th>\n",
       "      <td>Spain</td>\n",
       "      <td>ES</td>\n",
       "      <td></td>\n",
       "      <td></td>\n",
       "      <td></td>\n",
       "      <td>40.46</td>\n",
       "      <td>-3.75</td>\n",
       "      <td>0</td>\n",
       "      <td>confirmed</td>\n",
       "      <td>2020-01-26 00:00:00+00:00</td>\n",
       "    </tr>\n",
       "    <tr>\n",
       "      <th>...</th>\n",
       "      <td>...</td>\n",
       "      <td>...</td>\n",
       "      <td>...</td>\n",
       "      <td>...</td>\n",
       "      <td>...</td>\n",
       "      <td>...</td>\n",
       "      <td>...</td>\n",
       "      <td>...</td>\n",
       "      <td>...</td>\n",
       "      <td>...</td>\n",
       "    </tr>\n",
       "    <tr>\n",
       "      <th>799</th>\n",
       "      <td>Spain</td>\n",
       "      <td>ES</td>\n",
       "      <td></td>\n",
       "      <td></td>\n",
       "      <td></td>\n",
       "      <td>40.46</td>\n",
       "      <td>-3.75</td>\n",
       "      <td>11508309</td>\n",
       "      <td>confirmed</td>\n",
       "      <td>2022-03-31 00:00:00+00:00</td>\n",
       "    </tr>\n",
       "    <tr>\n",
       "      <th>800</th>\n",
       "      <td>Spain</td>\n",
       "      <td>ES</td>\n",
       "      <td></td>\n",
       "      <td></td>\n",
       "      <td></td>\n",
       "      <td>40.46</td>\n",
       "      <td>-3.75</td>\n",
       "      <td>11551574</td>\n",
       "      <td>confirmed</td>\n",
       "      <td>2022-04-01 00:00:00+00:00</td>\n",
       "    </tr>\n",
       "    <tr>\n",
       "      <th>801</th>\n",
       "      <td>Spain</td>\n",
       "      <td>ES</td>\n",
       "      <td></td>\n",
       "      <td></td>\n",
       "      <td></td>\n",
       "      <td>40.46</td>\n",
       "      <td>-3.75</td>\n",
       "      <td>11551574</td>\n",
       "      <td>confirmed</td>\n",
       "      <td>2022-04-02 00:00:00+00:00</td>\n",
       "    </tr>\n",
       "    <tr>\n",
       "      <th>802</th>\n",
       "      <td>Spain</td>\n",
       "      <td>ES</td>\n",
       "      <td></td>\n",
       "      <td></td>\n",
       "      <td></td>\n",
       "      <td>40.46</td>\n",
       "      <td>-3.75</td>\n",
       "      <td>11551574</td>\n",
       "      <td>confirmed</td>\n",
       "      <td>2022-04-03 00:00:00+00:00</td>\n",
       "    </tr>\n",
       "    <tr>\n",
       "      <th>803</th>\n",
       "      <td>Spain</td>\n",
       "      <td>ES</td>\n",
       "      <td></td>\n",
       "      <td></td>\n",
       "      <td></td>\n",
       "      <td>40.46</td>\n",
       "      <td>-3.75</td>\n",
       "      <td>11551574</td>\n",
       "      <td>confirmed</td>\n",
       "      <td>2022-04-04 00:00:00+00:00</td>\n",
       "    </tr>\n",
       "  </tbody>\n",
       "</table>\n",
       "<p>804 rows × 10 columns</p>\n",
       "</div>"
      ],
      "text/plain": [
       "    Country CountryCode Province City CityCode    Lat   Lon     Cases  \\\n",
       "0     Spain          ES                         40.46 -3.75         0   \n",
       "1     Spain          ES                         40.46 -3.75         0   \n",
       "2     Spain          ES                         40.46 -3.75         0   \n",
       "3     Spain          ES                         40.46 -3.75         0   \n",
       "4     Spain          ES                         40.46 -3.75         0   \n",
       "..      ...         ...      ...  ...      ...    ...   ...       ...   \n",
       "799   Spain          ES                         40.46 -3.75  11508309   \n",
       "800   Spain          ES                         40.46 -3.75  11551574   \n",
       "801   Spain          ES                         40.46 -3.75  11551574   \n",
       "802   Spain          ES                         40.46 -3.75  11551574   \n",
       "803   Spain          ES                         40.46 -3.75  11551574   \n",
       "\n",
       "        Status                      Date  \n",
       "0    confirmed 2020-01-22 00:00:00+00:00  \n",
       "1    confirmed 2020-01-23 00:00:00+00:00  \n",
       "2    confirmed 2020-01-24 00:00:00+00:00  \n",
       "3    confirmed 2020-01-25 00:00:00+00:00  \n",
       "4    confirmed 2020-01-26 00:00:00+00:00  \n",
       "..         ...                       ...  \n",
       "799  confirmed 2022-03-31 00:00:00+00:00  \n",
       "800  confirmed 2022-04-01 00:00:00+00:00  \n",
       "801  confirmed 2022-04-02 00:00:00+00:00  \n",
       "802  confirmed 2022-04-03 00:00:00+00:00  \n",
       "803  confirmed 2022-04-04 00:00:00+00:00  \n",
       "\n",
       "[804 rows x 10 columns]"
      ]
     },
     "execution_count": 13,
     "metadata": {},
     "output_type": "execute_result"
    }
   ],
   "source": [
    "url_live = 'https://api.covid19api.com/country/spain/status/confirmed/live'\n",
    "df_es = pd.read_json(url_live)\n",
    "df_es"
   ]
  },
  {
   "cell_type": "code",
   "execution_count": 14,
   "id": "0b396a11",
   "metadata": {},
   "outputs": [
    {
     "name": "stdout",
     "output_type": "stream",
     "text": [
      "<class 'pandas.core.frame.DataFrame'>\n",
      "RangeIndex: 804 entries, 0 to 803\n",
      "Data columns (total 10 columns):\n",
      " #   Column       Non-Null Count  Dtype              \n",
      "---  ------       --------------  -----              \n",
      " 0   Country      804 non-null    object             \n",
      " 1   CountryCode  804 non-null    object             \n",
      " 2   Province     804 non-null    object             \n",
      " 3   City         804 non-null    object             \n",
      " 4   CityCode     804 non-null    object             \n",
      " 5   Lat          804 non-null    float64            \n",
      " 6   Lon          804 non-null    float64            \n",
      " 7   Cases        804 non-null    int64              \n",
      " 8   Status       804 non-null    object             \n",
      " 9   Date         804 non-null    datetime64[ns, UTC]\n",
      "dtypes: datetime64[ns, UTC](1), float64(2), int64(1), object(6)\n",
      "memory usage: 62.9+ KB\n"
     ]
    }
   ],
   "source": [
    "df_es.info()"
   ]
  },
  {
   "cell_type": "code",
   "execution_count": 15,
   "id": "fec3780e",
   "metadata": {},
   "outputs": [
    {
     "data": {
      "text/html": [
       "<div>\n",
       "<style scoped>\n",
       "    .dataframe tbody tr th:only-of-type {\n",
       "        vertical-align: middle;\n",
       "    }\n",
       "\n",
       "    .dataframe tbody tr th {\n",
       "        vertical-align: top;\n",
       "    }\n",
       "\n",
       "    .dataframe thead th {\n",
       "        text-align: right;\n",
       "    }\n",
       "</style>\n",
       "<table border=\"1\" class=\"dataframe\">\n",
       "  <thead>\n",
       "    <tr style=\"text-align: right;\">\n",
       "      <th></th>\n",
       "      <th>Country</th>\n",
       "      <th>CountryCode</th>\n",
       "      <th>Province</th>\n",
       "      <th>City</th>\n",
       "      <th>CityCode</th>\n",
       "      <th>Lat</th>\n",
       "      <th>Lon</th>\n",
       "      <th>Cases</th>\n",
       "      <th>Status</th>\n",
       "      <th>Date</th>\n",
       "    </tr>\n",
       "  </thead>\n",
       "  <tbody>\n",
       "    <tr>\n",
       "      <th>0</th>\n",
       "      <td>Spain</td>\n",
       "      <td>ES</td>\n",
       "      <td></td>\n",
       "      <td></td>\n",
       "      <td></td>\n",
       "      <td>40.46</td>\n",
       "      <td>-3.75</td>\n",
       "      <td>0</td>\n",
       "      <td>confirmed</td>\n",
       "      <td>2020-01-22 00:00:00+00:00</td>\n",
       "    </tr>\n",
       "    <tr>\n",
       "      <th>1</th>\n",
       "      <td>Spain</td>\n",
       "      <td>ES</td>\n",
       "      <td></td>\n",
       "      <td></td>\n",
       "      <td></td>\n",
       "      <td>40.46</td>\n",
       "      <td>-3.75</td>\n",
       "      <td>0</td>\n",
       "      <td>confirmed</td>\n",
       "      <td>2020-01-23 00:00:00+00:00</td>\n",
       "    </tr>\n",
       "    <tr>\n",
       "      <th>2</th>\n",
       "      <td>Spain</td>\n",
       "      <td>ES</td>\n",
       "      <td></td>\n",
       "      <td></td>\n",
       "      <td></td>\n",
       "      <td>40.46</td>\n",
       "      <td>-3.75</td>\n",
       "      <td>0</td>\n",
       "      <td>confirmed</td>\n",
       "      <td>2020-01-24 00:00:00+00:00</td>\n",
       "    </tr>\n",
       "    <tr>\n",
       "      <th>3</th>\n",
       "      <td>Spain</td>\n",
       "      <td>ES</td>\n",
       "      <td></td>\n",
       "      <td></td>\n",
       "      <td></td>\n",
       "      <td>40.46</td>\n",
       "      <td>-3.75</td>\n",
       "      <td>0</td>\n",
       "      <td>confirmed</td>\n",
       "      <td>2020-01-25 00:00:00+00:00</td>\n",
       "    </tr>\n",
       "    <tr>\n",
       "      <th>4</th>\n",
       "      <td>Spain</td>\n",
       "      <td>ES</td>\n",
       "      <td></td>\n",
       "      <td></td>\n",
       "      <td></td>\n",
       "      <td>40.46</td>\n",
       "      <td>-3.75</td>\n",
       "      <td>0</td>\n",
       "      <td>confirmed</td>\n",
       "      <td>2020-01-26 00:00:00+00:00</td>\n",
       "    </tr>\n",
       "    <tr>\n",
       "      <th>...</th>\n",
       "      <td>...</td>\n",
       "      <td>...</td>\n",
       "      <td>...</td>\n",
       "      <td>...</td>\n",
       "      <td>...</td>\n",
       "      <td>...</td>\n",
       "      <td>...</td>\n",
       "      <td>...</td>\n",
       "      <td>...</td>\n",
       "      <td>...</td>\n",
       "    </tr>\n",
       "    <tr>\n",
<<<<<<< HEAD
       "      <th>2022-03-31 00:00:00+00:00</th>\n",
=======
       "      <th>799</th>\n",
>>>>>>> ab98c929639cbecc88617c0fc74767f6e3b5df7e
       "      <td>Spain</td>\n",
       "      <td>ES</td>\n",
       "      <td></td>\n",
       "      <td></td>\n",
       "      <td></td>\n",
       "      <td>40.46</td>\n",
       "      <td>-3.75</td>\n",
       "      <td>11508309</td>\n",
       "      <td>confirmed</td>\n",
       "      <td>2022-03-31 00:00:00+00:00</td>\n",
       "    </tr>\n",
       "    <tr>\n",
<<<<<<< HEAD
       "      <th>2022-04-01 00:00:00+00:00</th>\n",
=======
       "      <th>800</th>\n",
>>>>>>> ab98c929639cbecc88617c0fc74767f6e3b5df7e
       "      <td>Spain</td>\n",
       "      <td>ES</td>\n",
       "      <td></td>\n",
       "      <td></td>\n",
       "      <td></td>\n",
       "      <td>40.46</td>\n",
       "      <td>-3.75</td>\n",
       "      <td>11551574</td>\n",
       "      <td>confirmed</td>\n",
       "      <td>2022-04-01 00:00:00+00:00</td>\n",
       "    </tr>\n",
       "    <tr>\n",
<<<<<<< HEAD
       "      <th>2022-04-02 00:00:00+00:00</th>\n",
=======
       "      <th>801</th>\n",
>>>>>>> ab98c929639cbecc88617c0fc74767f6e3b5df7e
       "      <td>Spain</td>\n",
       "      <td>ES</td>\n",
       "      <td></td>\n",
       "      <td></td>\n",
       "      <td></td>\n",
       "      <td>40.46</td>\n",
       "      <td>-3.75</td>\n",
       "      <td>11551574</td>\n",
       "      <td>confirmed</td>\n",
       "      <td>2022-04-02 00:00:00+00:00</td>\n",
       "    </tr>\n",
       "    <tr>\n",
<<<<<<< HEAD
       "      <th>2022-04-03 00:00:00+00:00</th>\n",
=======
       "      <th>802</th>\n",
>>>>>>> ab98c929639cbecc88617c0fc74767f6e3b5df7e
       "      <td>Spain</td>\n",
       "      <td>ES</td>\n",
       "      <td></td>\n",
       "      <td></td>\n",
       "      <td></td>\n",
       "      <td>40.46</td>\n",
       "      <td>-3.75</td>\n",
       "      <td>11551574</td>\n",
       "      <td>confirmed</td>\n",
       "      <td>2022-04-03 00:00:00+00:00</td>\n",
       "    </tr>\n",
       "    <tr>\n",
<<<<<<< HEAD
       "      <th>2022-04-04 00:00:00+00:00</th>\n",
=======
       "      <th>803</th>\n",
>>>>>>> ab98c929639cbecc88617c0fc74767f6e3b5df7e
       "      <td>Spain</td>\n",
       "      <td>ES</td>\n",
       "      <td></td>\n",
       "      <td></td>\n",
       "      <td></td>\n",
       "      <td>40.46</td>\n",
       "      <td>-3.75</td>\n",
       "      <td>11551574</td>\n",
       "      <td>confirmed</td>\n",
       "      <td>2022-04-04 00:00:00+00:00</td>\n",
       "    </tr>\n",
       "  </tbody>\n",
       "</table>\n",
<<<<<<< HEAD
       "<p>804 rows × 9 columns</p>\n",
       "</div>"
      ],
      "text/plain": [
       "                          Country CountryCode Province City CityCode    Lat  \\\n",
       "Date                                                                          \n",
       "2020-01-22 00:00:00+00:00   Spain          ES                         40.46   \n",
       "2020-01-23 00:00:00+00:00   Spain          ES                         40.46   \n",
       "2020-01-24 00:00:00+00:00   Spain          ES                         40.46   \n",
       "2020-01-25 00:00:00+00:00   Spain          ES                         40.46   \n",
       "2020-01-26 00:00:00+00:00   Spain          ES                         40.46   \n",
       "...                           ...         ...      ...  ...      ...    ...   \n",
       "2022-03-31 00:00:00+00:00   Spain          ES                         40.46   \n",
       "2022-04-01 00:00:00+00:00   Spain          ES                         40.46   \n",
       "2022-04-02 00:00:00+00:00   Spain          ES                         40.46   \n",
       "2022-04-03 00:00:00+00:00   Spain          ES                         40.46   \n",
       "2022-04-04 00:00:00+00:00   Spain          ES                         40.46   \n",
       "\n",
       "                            Lon     Cases     Status  \n",
       "Date                                                  \n",
       "2020-01-22 00:00:00+00:00 -3.75         0  confirmed  \n",
       "2020-01-23 00:00:00+00:00 -3.75         0  confirmed  \n",
       "2020-01-24 00:00:00+00:00 -3.75         0  confirmed  \n",
       "2020-01-25 00:00:00+00:00 -3.75         0  confirmed  \n",
       "2020-01-26 00:00:00+00:00 -3.75         0  confirmed  \n",
       "...                         ...       ...        ...  \n",
       "2022-03-31 00:00:00+00:00 -3.75  11508309  confirmed  \n",
       "2022-04-01 00:00:00+00:00 -3.75  11551574  confirmed  \n",
       "2022-04-02 00:00:00+00:00 -3.75  11551574  confirmed  \n",
       "2022-04-03 00:00:00+00:00 -3.75  11551574  confirmed  \n",
       "2022-04-04 00:00:00+00:00 -3.75  11551574  confirmed  \n",
       "\n",
       "[804 rows x 9 columns]"
=======
       "<p>804 rows × 10 columns</p>\n",
       "</div>"
      ],
      "text/plain": [
       "    Country CountryCode Province City CityCode    Lat   Lon     Cases  \\\n",
       "0     Spain          ES                         40.46 -3.75         0   \n",
       "1     Spain          ES                         40.46 -3.75         0   \n",
       "2     Spain          ES                         40.46 -3.75         0   \n",
       "3     Spain          ES                         40.46 -3.75         0   \n",
       "4     Spain          ES                         40.46 -3.75         0   \n",
       "..      ...         ...      ...  ...      ...    ...   ...       ...   \n",
       "799   Spain          ES                         40.46 -3.75  11508309   \n",
       "800   Spain          ES                         40.46 -3.75  11551574   \n",
       "801   Spain          ES                         40.46 -3.75  11551574   \n",
       "802   Spain          ES                         40.46 -3.75  11551574   \n",
       "803   Spain          ES                         40.46 -3.75  11551574   \n",
       "\n",
       "        Status                      Date  \n",
       "0    confirmed 2020-01-22 00:00:00+00:00  \n",
       "1    confirmed 2020-01-23 00:00:00+00:00  \n",
       "2    confirmed 2020-01-24 00:00:00+00:00  \n",
       "3    confirmed 2020-01-25 00:00:00+00:00  \n",
       "4    confirmed 2020-01-26 00:00:00+00:00  \n",
       "..         ...                       ...  \n",
       "799  confirmed 2022-03-31 00:00:00+00:00  \n",
       "800  confirmed 2022-04-01 00:00:00+00:00  \n",
       "801  confirmed 2022-04-02 00:00:00+00:00  \n",
       "802  confirmed 2022-04-03 00:00:00+00:00  \n",
       "803  confirmed 2022-04-04 00:00:00+00:00  \n",
       "\n",
       "[804 rows x 10 columns]"
>>>>>>> ab98c929639cbecc88617c0fc74767f6e3b5df7e
      ]
     },
     "execution_count": 15,
     "metadata": {},
     "output_type": "execute_result"
    }
   ],
   "source": [
    "df_es.set_index('Date')\n",
    "df_es"
   ]
  },
  {
   "cell_type": "code",
   "execution_count": 16,
   "id": "abf8c316",
   "metadata": {},
   "outputs": [
    {
     "data": {
      "text/plain": [
       "Date\n",
       "2020-01-22 00:00:00+00:00           0\n",
       "2020-01-23 00:00:00+00:00           0\n",
       "2020-01-24 00:00:00+00:00           0\n",
       "2020-01-25 00:00:00+00:00           0\n",
       "2020-01-26 00:00:00+00:00           0\n",
       "                               ...   \n",
       "2022-03-31 00:00:00+00:00    11508309\n",
       "2022-04-01 00:00:00+00:00    11551574\n",
       "2022-04-02 00:00:00+00:00    11551574\n",
       "2022-04-03 00:00:00+00:00    11551574\n",
       "2022-04-04 00:00:00+00:00    11551574\n",
       "Name: Cases, Length: 804, dtype: int64"
      ]
     },
     "execution_count": 16,
     "metadata": {},
     "output_type": "execute_result"
    }
   ],
   "source": [
    "df_es.set_index('Date')['Cases']"
   ]
  },
  {
   "cell_type": "code",
   "execution_count": 17,
   "id": "8c893524",
   "metadata": {},
   "outputs": [
    {
     "name": "stderr",
     "output_type": "stream",
     "text": [
      "Matplotlib is building the font cache; this may take a moment.\n"
     ]
    },
    {
     "data": {
      "text/plain": [
       "<AxesSubplot:xlabel='Date'>"
      ]
     },
     "execution_count": 17,
     "metadata": {},
     "output_type": "execute_result"
    },
    {
     "data": {
<<<<<<< HEAD
      "image/png": "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\n",
=======
      "image/png": "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\n",
>>>>>>> ab98c929639cbecc88617c0fc74767f6e3b5df7e
      "text/plain": [
       "<Figure size 432x288 with 1 Axes>"
      ]
     },
     "metadata": {
      "needs_background": "light"
     },
     "output_type": "display_data"
    }
   ],
   "source": [
    "df_es.set_index('Date')['Cases'].plot()"
   ]
  },
  {
   "cell_type": "code",
   "execution_count": 18,
   "id": "6cede9b4",
   "metadata": {},
   "outputs": [
    {
     "data": {
      "text/plain": [
       "<AxesSubplot:title={'center':'Casos de Covid19 en España'}, xlabel='Date'>"
      ]
     },
     "execution_count": 18,
     "metadata": {},
     "output_type": "execute_result"
    },
    {
     "data": {
      "image/png": "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\n",
      "text/plain": [
       "<Figure size 432x288 with 1 Axes>"
      ]
     },
     "metadata": {
      "needs_background": "light"
     },
     "output_type": "display_data"
    }
   ],
   "source": [
    "df_es.set_index('Date')['Cases'].plot(title=\"Casos de Covid19 en España\")"
   ]
  },
  {
   "cell_type": "markdown",
   "id": "88af4f1c",
   "metadata": {},
   "source": [
    "## Tiempo real Colombia "
   ]
  },
  {
   "cell_type": "code",
   "execution_count": 19,
   "id": "d1fc0a74",
   "metadata": {},
   "outputs": [
    {
     "data": {
      "text/plain": [
       "<AxesSubplot:title={'center':'Casos de Covid19 en Colombia'}, xlabel='Date'>"
      ]
     },
     "execution_count": 19,
     "metadata": {},
     "output_type": "execute_result"
    },
    {
     "data": {
<<<<<<< HEAD
      "image/png": "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\n",
=======
      "image/png": "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\n",
>>>>>>> ab98c929639cbecc88617c0fc74767f6e3b5df7e
      "text/plain": [
       "<Figure size 432x288 with 1 Axes>"
      ]
     },
     "metadata": {
      "needs_background": "light"
     },
     "output_type": "display_data"
    }
   ],
   "source": [
    "url_co = 'https://api.covid19api.com/country/colombia/status/confirmed/live'\n",
    "df_co = pd.read_json(url_co)\n",
    "df_co.set_index('Date')['Cases'].plot(title=\"Casos de Covid19 en Colombia\")"
   ]
  },
  {
   "cell_type": "markdown",
   "id": "a30a9670",
   "metadata": {},
   "source": [
    "## Comparativa España - Colombia"
   ]
  },
  {
   "cell_type": "code",
   "execution_count": 20,
   "id": "d86f585e",
   "metadata": {},
   "outputs": [],
   "source": [
    "casos_es = df_es.set_index('Date')['Cases']\n",
    "casos_co = df_co.set_index('Date')['Cases']"
   ]
  },
  {
   "cell_type": "code",
<<<<<<< HEAD
   "execution_count": 20,
   "id": "164394c3",
   "metadata": {},
   "outputs": [
    {
     "data": {
      "text/plain": [
       "Date\n",
       "2020-01-22 00:00:00+00:00           0\n",
       "2020-01-23 00:00:00+00:00           0\n",
       "2020-01-24 00:00:00+00:00           0\n",
       "2020-01-25 00:00:00+00:00           0\n",
       "2020-01-26 00:00:00+00:00           0\n",
       "                               ...   \n",
       "2022-03-31 00:00:00+00:00    11508309\n",
       "2022-04-01 00:00:00+00:00    11551574\n",
       "2022-04-02 00:00:00+00:00    11551574\n",
       "2022-04-03 00:00:00+00:00    11551574\n",
       "2022-04-04 00:00:00+00:00    11551574\n",
       "Name: Cases, Length: 804, dtype: int64"
      ]
     },
     "execution_count": 20,
     "metadata": {},
     "output_type": "execute_result"
    }
   ],
   "source": [
    "casos_es"
   ]
  },
  {
   "cell_type": "code",
   "execution_count": 21,
   "id": "89c54fd5",
   "metadata": {},
   "outputs": [
    {
     "data": {
      "text/plain": [
       "Date\n",
       "2020-01-22 00:00:00+00:00          0\n",
       "2020-01-23 00:00:00+00:00          0\n",
       "2020-01-24 00:00:00+00:00          0\n",
       "2020-01-25 00:00:00+00:00          0\n",
       "2020-01-26 00:00:00+00:00          0\n",
       "                              ...   \n",
       "2022-03-31 00:00:00+00:00    6084916\n",
       "2022-04-01 00:00:00+00:00    6085270\n",
       "2022-04-02 00:00:00+00:00    6085618\n",
       "2022-04-03 00:00:00+00:00    6085926\n",
       "2022-04-04 00:00:00+00:00    6086233\n",
       "Name: Cases, Length: 804, dtype: int64"
      ]
     },
     "execution_count": 21,
     "metadata": {},
     "output_type": "execute_result"
    }
   ],
   "source": [
    "casos_co"
   ]
  },
  {
   "cell_type": "code",
   "execution_count": 22,
   "id": "b284950d",
=======
   "execution_count": 21,
   "id": "e95e29cd",
>>>>>>> ab98c929639cbecc88617c0fc74767f6e3b5df7e
   "metadata": {},
   "outputs": [
    {
     "data": {
      "text/html": [
       "<div>\n",
       "<style scoped>\n",
       "    .dataframe tbody tr th:only-of-type {\n",
       "        vertical-align: middle;\n",
       "    }\n",
       "\n",
       "    .dataframe tbody tr th {\n",
       "        vertical-align: top;\n",
       "    }\n",
       "\n",
       "    .dataframe thead th {\n",
       "        text-align: right;\n",
       "    }\n",
       "</style>\n",
       "<table border=\"1\" class=\"dataframe\">\n",
       "  <thead>\n",
       "    <tr style=\"text-align: right;\">\n",
       "      <th></th>\n",
       "      <th>Cases</th>\n",
       "      <th>Cases</th>\n",
       "    </tr>\n",
       "    <tr>\n",
       "      <th>Date</th>\n",
       "      <th></th>\n",
       "      <th></th>\n",
       "    </tr>\n",
       "  </thead>\n",
       "  <tbody>\n",
       "    <tr>\n",
       "      <th>2020-01-22 00:00:00+00:00</th>\n",
       "      <td>0</td>\n",
       "      <td>0</td>\n",
       "    </tr>\n",
       "    <tr>\n",
       "      <th>2020-01-23 00:00:00+00:00</th>\n",
       "      <td>0</td>\n",
       "      <td>0</td>\n",
       "    </tr>\n",
       "    <tr>\n",
       "      <th>2020-01-24 00:00:00+00:00</th>\n",
       "      <td>0</td>\n",
       "      <td>0</td>\n",
       "    </tr>\n",
       "    <tr>\n",
       "      <th>2020-01-25 00:00:00+00:00</th>\n",
       "      <td>0</td>\n",
       "      <td>0</td>\n",
       "    </tr>\n",
       "    <tr>\n",
       "      <th>2020-01-26 00:00:00+00:00</th>\n",
       "      <td>0</td>\n",
       "      <td>0</td>\n",
       "    </tr>\n",
       "    <tr>\n",
       "      <th>...</th>\n",
       "      <td>...</td>\n",
       "      <td>...</td>\n",
       "    </tr>\n",
       "    <tr>\n",
       "      <th>2022-03-31 00:00:00+00:00</th>\n",
       "      <td>11508309</td>\n",
       "      <td>6084916</td>\n",
       "    </tr>\n",
       "    <tr>\n",
       "      <th>2022-04-01 00:00:00+00:00</th>\n",
       "      <td>11551574</td>\n",
       "      <td>6085270</td>\n",
       "    </tr>\n",
       "    <tr>\n",
       "      <th>2022-04-02 00:00:00+00:00</th>\n",
       "      <td>11551574</td>\n",
       "      <td>6085618</td>\n",
       "    </tr>\n",
       "    <tr>\n",
       "      <th>2022-04-03 00:00:00+00:00</th>\n",
       "      <td>11551574</td>\n",
       "      <td>6085926</td>\n",
       "    </tr>\n",
       "    <tr>\n",
       "      <th>2022-04-04 00:00:00+00:00</th>\n",
       "      <td>11551574</td>\n",
       "      <td>6086233</td>\n",
       "    </tr>\n",
       "  </tbody>\n",
       "</table>\n",
       "<p>804 rows × 2 columns</p>\n",
       "</div>"
      ],
      "text/plain": [
       "                              Cases    Cases\n",
       "Date                                        \n",
       "2020-01-22 00:00:00+00:00         0        0\n",
       "2020-01-23 00:00:00+00:00         0        0\n",
       "2020-01-24 00:00:00+00:00         0        0\n",
       "2020-01-25 00:00:00+00:00         0        0\n",
       "2020-01-26 00:00:00+00:00         0        0\n",
       "...                             ...      ...\n",
       "2022-03-31 00:00:00+00:00  11508309  6084916\n",
       "2022-04-01 00:00:00+00:00  11551574  6085270\n",
       "2022-04-02 00:00:00+00:00  11551574  6085618\n",
       "2022-04-03 00:00:00+00:00  11551574  6085926\n",
       "2022-04-04 00:00:00+00:00  11551574  6086233\n",
       "\n",
       "[804 rows x 2 columns]"
      ]
     },
     "execution_count": 21,
     "metadata": {},
     "output_type": "execute_result"
    }
   ],
   "source": [
    "pd.concat([casos_es,casos_co],axis=1)"
   ]
  },
  {
   "cell_type": "code",
   "execution_count": 22,
   "id": "af31bb66",
   "metadata": {},
   "outputs": [
    {
     "data": {
      "text/html": [
       "<div>\n",
       "<style scoped>\n",
       "    .dataframe tbody tr th:only-of-type {\n",
       "        vertical-align: middle;\n",
       "    }\n",
       "\n",
       "    .dataframe tbody tr th {\n",
       "        vertical-align: top;\n",
       "    }\n",
       "\n",
       "    .dataframe thead th {\n",
       "        text-align: right;\n",
       "    }\n",
       "</style>\n",
       "<table border=\"1\" class=\"dataframe\">\n",
       "  <thead>\n",
       "    <tr style=\"text-align: right;\">\n",
       "      <th></th>\n",
       "      <th>Cases</th>\n",
       "      <th>Cases</th>\n",
       "    </tr>\n",
       "    <tr>\n",
       "      <th>Date</th>\n",
       "      <th></th>\n",
       "      <th></th>\n",
       "    </tr>\n",
       "  </thead>\n",
       "  <tbody>\n",
       "    <tr>\n",
       "      <th>2020-01-22 00:00:00+00:00</th>\n",
       "      <td>0</td>\n",
       "      <td>0</td>\n",
       "    </tr>\n",
       "    <tr>\n",
       "      <th>2020-01-23 00:00:00+00:00</th>\n",
       "      <td>0</td>\n",
       "      <td>0</td>\n",
       "    </tr>\n",
       "    <tr>\n",
       "      <th>2020-01-24 00:00:00+00:00</th>\n",
       "      <td>0</td>\n",
       "      <td>0</td>\n",
       "    </tr>\n",
       "    <tr>\n",
       "      <th>2020-01-25 00:00:00+00:00</th>\n",
       "      <td>0</td>\n",
       "      <td>0</td>\n",
       "    </tr>\n",
       "    <tr>\n",
       "      <th>2020-01-26 00:00:00+00:00</th>\n",
       "      <td>0</td>\n",
       "      <td>0</td>\n",
       "    </tr>\n",
       "    <tr>\n",
       "      <th>...</th>\n",
       "      <td>...</td>\n",
       "      <td>...</td>\n",
       "    </tr>\n",
       "    <tr>\n",
       "      <th>2022-03-31 00:00:00+00:00</th>\n",
       "      <td>11508309</td>\n",
       "      <td>6084916</td>\n",
       "    </tr>\n",
       "    <tr>\n",
       "      <th>2022-04-01 00:00:00+00:00</th>\n",
       "      <td>11551574</td>\n",
       "      <td>6085270</td>\n",
       "    </tr>\n",
       "    <tr>\n",
       "      <th>2022-04-02 00:00:00+00:00</th>\n",
       "      <td>11551574</td>\n",
       "      <td>6085618</td>\n",
       "    </tr>\n",
       "    <tr>\n",
       "      <th>2022-04-03 00:00:00+00:00</th>\n",
       "      <td>11551574</td>\n",
       "      <td>6085926</td>\n",
       "    </tr>\n",
       "    <tr>\n",
       "      <th>2022-04-04 00:00:00+00:00</th>\n",
       "      <td>11551574</td>\n",
       "      <td>6086233</td>\n",
       "    </tr>\n",
       "  </tbody>\n",
       "</table>\n",
       "<p>804 rows × 2 columns</p>\n",
       "</div>"
      ],
      "text/plain": [
       "                              Cases    Cases\n",
       "Date                                        \n",
       "2020-01-22 00:00:00+00:00         0        0\n",
       "2020-01-23 00:00:00+00:00         0        0\n",
       "2020-01-24 00:00:00+00:00         0        0\n",
       "2020-01-25 00:00:00+00:00         0        0\n",
       "2020-01-26 00:00:00+00:00         0        0\n",
       "...                             ...      ...\n",
       "2022-03-31 00:00:00+00:00  11508309  6084916\n",
       "2022-04-01 00:00:00+00:00  11551574  6085270\n",
       "2022-04-02 00:00:00+00:00  11551574  6085618\n",
       "2022-04-03 00:00:00+00:00  11551574  6085926\n",
       "2022-04-04 00:00:00+00:00  11551574  6086233\n",
       "\n",
       "[804 rows x 2 columns]"
      ]
     },
     "execution_count": 22,
     "metadata": {},
     "output_type": "execute_result"
    }
   ],
   "source": [
    "vs = pd.concat([casos_es,casos_co],axis=1)\n",
    "vs"
   ]
  },
  {
   "cell_type": "code",
   "execution_count": 23,
   "id": "949fcaf7",
   "metadata": {},
   "outputs": [
    {
     "data": {
      "text/html": [
       "<div>\n",
       "<style scoped>\n",
       "    .dataframe tbody tr th:only-of-type {\n",
       "        vertical-align: middle;\n",
       "    }\n",
       "\n",
       "    .dataframe tbody tr th {\n",
       "        vertical-align: top;\n",
       "    }\n",
       "\n",
       "    .dataframe thead th {\n",
       "        text-align: right;\n",
       "    }\n",
       "</style>\n",
       "<table border=\"1\" class=\"dataframe\">\n",
       "  <thead>\n",
       "    <tr style=\"text-align: right;\">\n",
       "      <th></th>\n",
       "      <th>España</th>\n",
       "      <th>Colombia</th>\n",
       "    </tr>\n",
       "    <tr>\n",
       "      <th>Date</th>\n",
       "      <th></th>\n",
       "      <th></th>\n",
       "    </tr>\n",
       "  </thead>\n",
       "  <tbody>\n",
       "    <tr>\n",
       "      <th>2020-01-22 00:00:00+00:00</th>\n",
       "      <td>0</td>\n",
       "      <td>0</td>\n",
       "    </tr>\n",
       "    <tr>\n",
       "      <th>2020-01-23 00:00:00+00:00</th>\n",
       "      <td>0</td>\n",
       "      <td>0</td>\n",
       "    </tr>\n",
       "    <tr>\n",
       "      <th>2020-01-24 00:00:00+00:00</th>\n",
       "      <td>0</td>\n",
       "      <td>0</td>\n",
       "    </tr>\n",
       "    <tr>\n",
       "      <th>2020-01-25 00:00:00+00:00</th>\n",
       "      <td>0</td>\n",
       "      <td>0</td>\n",
       "    </tr>\n",
       "    <tr>\n",
       "      <th>2020-01-26 00:00:00+00:00</th>\n",
       "      <td>0</td>\n",
       "      <td>0</td>\n",
       "    </tr>\n",
       "    <tr>\n",
       "      <th>...</th>\n",
       "      <td>...</td>\n",
       "      <td>...</td>\n",
       "    </tr>\n",
       "    <tr>\n",
       "      <th>2022-03-31 00:00:00+00:00</th>\n",
       "      <td>11508309</td>\n",
       "      <td>6084916</td>\n",
       "    </tr>\n",
       "    <tr>\n",
       "      <th>2022-04-01 00:00:00+00:00</th>\n",
       "      <td>11551574</td>\n",
       "      <td>6085270</td>\n",
       "    </tr>\n",
       "    <tr>\n",
       "      <th>2022-04-02 00:00:00+00:00</th>\n",
       "      <td>11551574</td>\n",
       "      <td>6085618</td>\n",
       "    </tr>\n",
       "    <tr>\n",
       "      <th>2022-04-03 00:00:00+00:00</th>\n",
       "      <td>11551574</td>\n",
       "      <td>6085926</td>\n",
       "    </tr>\n",
       "    <tr>\n",
       "      <th>2022-04-04 00:00:00+00:00</th>\n",
       "      <td>11551574</td>\n",
       "      <td>6086233</td>\n",
       "    </tr>\n",
       "  </tbody>\n",
       "</table>\n",
       "<p>804 rows × 2 columns</p>\n",
       "</div>"
      ],
      "text/plain": [
       "                             España  Colombia\n",
       "Date                                         \n",
       "2020-01-22 00:00:00+00:00         0         0\n",
       "2020-01-23 00:00:00+00:00         0         0\n",
       "2020-01-24 00:00:00+00:00         0         0\n",
       "2020-01-25 00:00:00+00:00         0         0\n",
       "2020-01-26 00:00:00+00:00         0         0\n",
       "...                             ...       ...\n",
       "2022-03-31 00:00:00+00:00  11508309   6084916\n",
       "2022-04-01 00:00:00+00:00  11551574   6085270\n",
       "2022-04-02 00:00:00+00:00  11551574   6085618\n",
       "2022-04-03 00:00:00+00:00  11551574   6085926\n",
       "2022-04-04 00:00:00+00:00  11551574   6086233\n",
       "\n",
       "[804 rows x 2 columns]"
      ]
     },
     "execution_count": 23,
     "metadata": {},
     "output_type": "execute_result"
    }
   ],
   "source": [
    "vs.columns = ['España', 'Colombia']\n",
    "vs"
   ]
  },
  {
   "cell_type": "code",
   "execution_count": 24,
   "id": "d4f16124",
   "metadata": {},
   "outputs": [
    {
     "data": {
      "text/plain": [
       "<AxesSubplot:title={'center':'España VS Colombia'}, xlabel='Date'>"
      ]
     },
     "execution_count": 24,
     "metadata": {},
     "output_type": "execute_result"
    },
    {
     "data": {
<<<<<<< HEAD
      "image/png": "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\n",
=======
      "image/png": "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\n",
>>>>>>> ab98c929639cbecc88617c0fc74767f6e3b5df7e
      "text/plain": [
       "<Figure size 432x288 with 1 Axes>"
      ]
     },
     "metadata": {
      "needs_background": "light"
     },
     "output_type": "display_data"
    }
   ],
   "source": [
    "vs.plot(title=\"España VS Colombia\")"
   ]
  },
  {
   "cell_type": "markdown",
   "id": "a12b8f23",
   "metadata": {},
   "source": [
    "## Triple Comparativa "
   ]
  },
  {
   "cell_type": "code",
   "execution_count": 25,
   "id": "af56349d",
   "metadata": {},
   "outputs": [
    {
     "data": {
      "text/plain": [
       "<AxesSubplot:title={'center':'Casos de Covid19 en Portugal'}, xlabel='Date'>"
      ]
     },
     "execution_count": 25,
     "metadata": {},
     "output_type": "execute_result"
    },
    {
     "data": {
<<<<<<< HEAD
      "image/png": "iVBORw0KGgoAAAANSUhEUgAAAXEAAAEiCAYAAAAPneL9AAAAOXRFWHRTb2Z0d2FyZQBNYXRwbG90bGliIHZlcnNpb24zLjMuNCwgaHR0cHM6Ly9tYXRwbG90bGliLm9yZy8QVMy6AAAACXBIWXMAAAsTAAALEwEAmpwYAAAp40lEQVR4nO3deXxcdb3/8dcne5qka9J9SfeWFqFQWpDFsivKdgFlEZFFFBVEcUHkd+UK7huiqLeAFxGsICAgIEWxZZG1LV1p031vmqVNszRpts/vj3MKQ0jaSZrJZCbv5+Mxj8ycc+bMZ07OvOfM93zPOebuiIhIYkqJdwEiItJxCnERkQSmEBcRSWAKcRGRBKYQFxFJYApxEZEEphCXqJjZ/WZ2R7zriGRmJ5pZ0QHGd7uaE5GZrTCzWfGuQ1qnEI8jM9toZrVmVmVmFWb2qpl9wcyi+r+YWaGZuZmlxbrWQ2GBG8xsuZnVmNlWM/urmR1+KPN195fdfWKUNWSY2aPhMveWoWRmfc3sj2ZWEt5uO5Ta2svMRptZs5n9titft5U6PvDF5+5T3H1+nEqSg1CIx9/Z7p4HjAJ+BHwLuC++JXW6XwFfAW4A+gMTgCeAj3dxHa8AnwaKWxn3S6AXUAjMAC43syu7rjQ+A+wGLjazzLYm6u5f2BIH7q5bnG7ARuC0FsNmAM3A1PDxx4G3gUpgC3BbxLSbAQeqw9txBF/MtwKbgBLgAaBPOH0W8CBQDlQAbwGD2qhtGrAIqAIeBv4C3BEx/hPA4nA+rwIfamM+44EmYMYBlkOfsM7SsO5bw/eRGc5/asS0BUAtMBCYBWyNtuaI6bYCs1oMKwOOiXh8C/DyAWo+NnzfFcCSyPkB84Hbgf+EtTwP5B9kXVgHXAfsBC5sMc6BLwFrgA3hsG8CO4DtwDXhNOPCcZnAz8L1YyfweyA7HDcrfP83hevHDuDKcNy1QANQH65Pf2+5ngK3AY+E/68qYAUwPaLWm8P3UgW8A5wf789Zst/iXkBPvtFKiIfDNwPXhfdnAYeHofah8EN5XjiuMPzwpkU89ypgLTAGyAUeB/4Ujvs88HeCLc5U4Gigdyuvn0EQpl8F0oELww/3HeH4o8IAmBnO54rwvWS2Mq8vAJsOshweAJ4E8sL3tBq4Ohz3B+D7EdN+CXguYtlsjabmFq/XVojPiHj8HWB3G/UOI/giPCv8v5wePi4Ix88Pg2wCkB0+/tEB3v+JwD6gH/Br4KkW4x34J8GvmGzgowS/JqaE/8s/8f4QvxN4Kpw+L/yf/zBimTUC3wuX01nAXqBfOP7+lsuMD4Z4Xfi8VOCHwOsR014EDA2Xy6eAGmBIvD9ryXyL3YyDD18JsDzK6T9J8M29AvhzvBdMlyz8tkP8deA7bTznTuCX4f1CPhjiLwBfjHg8MQyzNIKAb3OrOeI5JxFs4VnEsFd5L8R/B9ze4jlFwEdamdd3Ij/krYxPDQPssIhhnwfmh/dPA9ZHjPsP8Jnw/izeC/ED1tziNVsL8QcJvvDygHEEIbyvjZq/RfjFGDFsLnBFeH8+cGvEuC8SfvG0Mb97gSfC+8eF/6+BEeMdOCXi8R8IQzl8PC6cZhxgYXCOjRh/HO9twc8i+CUTuc6UAMeG9+9vucz4YIj/K2LcYUDtAd7bYuDcrv5s9aRbLNvE7yfYYjgoMxsPfBs43t2nADfGrqyEMAzYBWBmM81snpmVmtkegi3b/AM8dyjBFul+mwgCfBDBFttc4C9mtt3MfmJm6W3MY5uHn8KI+ew3Crgp3BlbYWYVwIjweS2VA0MOUG8+721FR77WsPD+v4HscDmMAo4E/taBmg/mBoJwW0Pwq2AOQdi3ZhRwUYv3fwLvf5+R7e57CX4VfYCZZRNsvT4E4O6vEfwSu7TFpFsi7g9t8TjyfgHB1vnCiNqeC4fvV+7ujdHU14aW7y1rf1u9mX3GzBZHvPZUDry+yiGKWYi7+0uEQbSfmY01s+fMbKGZvWxmk8JRnwPudvfd4XNLYlVXd2dmxxAE2CvhoD8T/DQe4e59CNo3LRzX2ikotxOEzH4jCX4+73T3Bnf/H3c/DPgwQbv2Z1qZxw5gmJlZi/nst4WgiaNvxK2Xu89pZV4vAMPNbHobb7mMYMuzZc3bANy9maAN9hKCYHva3as6UPMBufsud7/M3QeHGxIpwJttTL6FYEs88v3nuPuPon29COcDvYHfmlmxmRUT/P9b/l8i/9c7gOERj0dE3C8j+DKaElFbH3ePNqQ7fFrT8Ev2HuDLwAB37wss5731VWKgq3unzAaud/ejga8D+7tTTQAmmNl/zOx1M4tqCz6ZmFlvM/sEwc64B919WTgqD9jl7nVmNoP3b6GVEuwEHRMxbA7w1bDLWi7wA+Bhd280s5PN7HAzSyXYUdpAsNOxpdcIgv8GM0szs/8i2OG63z3AF8KtYzOzHDP7uJnltZyRu68h+D/PMbNZYVe/LDO72MxudvcmgpD+vpnlhUHwNYLmjf3+TNC+ell4vzUHqxkzyzSzrPDh/josHDfWzAaYWaqZfYxgJ19bfcwfBM42szPD6bPC9za8jekP5AqC5pHDCX5lHAkcDxx5gC6YjwBXmtlkM+sF/Pf+EeGX3j3AL81sYPjehpnZmVHWs5P3r0/tkUPwJVAavu6VBFviEkuxbKshaLNdHt7PJdhCWBxxWxmOe5rgJ3I6MJrgZ2zfeLc1xfpG0NZYS7Anfw9BEH0JSI2Y5kKCZoGqcDn9hiDk94//HsGHpoKgx0QKwYd6Szj8Qd7baXUJQdt1DcGH9S4i2kZb1DadoFfM/p4eD/P+3ikfJejdUkGwZfhXIK+NeRlBF8MVBD+/t4XzmxKO7xfWWRrW/d9ASot5rCX4ZZcRMWwW7++dcrCaNxKETOStMBz3SYJfMXvDdfPMg/zvZgIvhjWVAs8AI8Nx84FrIqb9LPBKK/MYRvDFc3gr454Ffhbef3enZcT4bxM0a2wn6NXiBL/WIOiF9ANgPcGX9UrghtaWWcRy2d/mPZ73eh090cr423j/+ldIxH4Z4PvhMikDfhEuo2vaWo66HfrNwgUfE2ZWSPDzd6qZ9QaK3P0D7aNm9nuCnV/3h49fAG5297diVpxIkjCzyQTNFpn+/rZu6QG6rDnF3SuBDWZ2Ebx7FN8R4egngJPD4fkEzSvru6o2kURjZueHTVP9gB8T9OlWgPdAMQtxM5tD0Dww0YLDrK8maNO82syWEPy0PjecfC5QbmbvAPOAb7h7eaxqE0kCnydoxllHsF/juviWI/ES0+YUERGJLZ07RUQkgSnERUQSWEzOiJafn++FhYWxmLWISFJauHBhmbsXHHzK94tJiBcWFrJgwYJYzFpEJCmZWXtOE/EuNaeIiCQwhbiISAJTiIuIJDCFuIhIAlOIi4gkMIW4iEgC05WzRUTiqKnZqapr6PDzFeIiIl1gY1kNCzbtZkNZNZvK97KtopbtFbWUVu2j+RBOYaUQFxGJgdr6Jl5bX8Yb63exbNse3tiwi6ZmJzXFGNY3mxH9szlpfAFD+mTRt1cGV/+4Y6+jEBcR6SQllXXMXVHM35fuYPGWCuobm8lITWH8oFyuOr6QT04fQWF+DumpH9wdeXUHX1MhLiJyCGrrm3jojU3MeXMz60prAJg0OI/PHDuKj0ws4JjC/mSlp8bs9RXiIiId0NTs/HtVCT+bW0TRziqOKezHxceM5Phx+Uwekkd4De6YU4iLiLRTZV0DX3xwEa+sLWNw7yzuv/IYZk0cGJdaFOIiIu2wfNsevvrwYjaW13DHeVP51DEjWm3j7ioKcRGRKN09by0/e76IPtnpPHDVTI4bOyDeJSnERUSiMXdFMT+dW8TZRwzle+dMoV9ORrxLAhTiIiIHtaumnlseX8bUYb35+UVHkJHWfc5YohAXETmAPbUNXHrP61TWNfDQRTO7VYCDQlxE5IDufXk9RTur+MMVxzBpcO94l/MB3esrRUSkG6lraOLPb2zmtMmDOHlSfLoQHoxCXESkDU8t2U55TT1Xfrgw3qW0SSEuItIKd+f//rORiYPyukVXwrYoxEVEWvGfteWs3FHJlccXdtkh9B2hEBcRaaGhqZmbH1/KsL7ZnDdtWLzLOSCFuIhICy+tLmXr7lq+e/ZhMT0DYWdQiIuItPDS6lKy01P5yMSCeJdyUApxEZEWXl5bxozR/clM695b4RBliJvZV81shZktN7M5ZpYV68JEROJhZ2Ud60trOGFcfrxLicpBQ9zMhgE3ANPdfSqQClwc68JEROJhyZYKAI4a1S++hUQp2uaUNCDbzNKAXsD22JUkIhI/y7ftIcXgsCHd7xD71hw0xN19G/AzYDOwA9jj7s+3nM7MrjWzBWa2oLS0tPMrFRHpAku37WHCoDyyM7p/ezhE15zSDzgXGA0MBXLM7NMtp3P32e4+3d2nFxR0/z26IiItuTvLtu5h6rA+8S4latE0p5wGbHD3UndvAB4HPhzbskREut7akmrKa+o5pjAx2sMhuhDfDBxrZr0sOPb0VGBlbMsSEel6r60vB+DDYxOjZwpE1yb+BvAosAhYFj5ndozrEhHpcq+uLWd4v2xG9O8V71KiFtVFIdz9u8B3Y1yLiEhcLd5SwbFj+se7jHbREZsiIkBZ9T6KK+sSaqcmKMRFRAAoKq4C6JaXYDsQhbiICLC+rAaAsQNz4lxJ+yjERUSA9aXV9MpIZXDvxDo1lEJcRARYX1rD6Pycbn0Vn9YoxEVEgPVl1YwpyI13Ge2mEBeRHq+uoYmtu2sZk59Y7eGgEBcRYVP5XtxhTIFCXEQk4awvrQZgTL6aU0REEs66MMRHa0tcRCTxrN5ZzbC+2eRmRnUmkm5FIS4iPd7qnVVMHJwX7zI6RCEuIj1aQ1Mz60qrGT8o8drDQSEuIj3cpvIaGpqciYO0JS4iknAWbtoNwJShiXX2wv0U4iLSo720uowhfbKYoOYUEZHEs2RrBUeP6pdw50zZTyEuIj3Wnr0NbN1dm7BNKaAQF5EebF1ZcJDP+IGJ2ZQCCnER6cE2hheCKEzAE1/tpxAXkR5rY/leUgxG9M+OdykdphAXkR5rY1kNQ/tmk5mWGu9SOkwhLiI91qby4Go+iUwhLiI9kruzoayGUQN6xbuUQ6IQF5EeqWJvA5V1jRQO0Ja4iEjC2VAe9kxRiIuIJJ5k6F4ICnER6aGSoXshKMRFpIdKhu6FoBAXkR5qTUl1wncvBIW4iPRAlXUNFBVXctTIfvEu5ZApxEWkx1m0aTfNDscU9o93KYdMIS4iPc6CjbtJTTGmjewb71IOmUJcRHqcZdv2MH5gLjmZafEu5ZApxEWkxykqrmLykN7xLqNTRBXiZtbXzB41s1VmttLMjot1YSIisVCxt57iyjomDU7Mq9u3FO1viV8Bz7n7hWaWAST2GWNEpMdaVVwFwMSeEuJm1hs4CfgsgLvXA/WxLUtEJDZW7agE6FHNKWOAUuD/zOxtM7vXzD7QQ97MrjWzBWa2oLS0tNMLFRHpDEU7q+jbK52BeZnxLqVTRBPiacBRwO/cfRpQA9zcciJ3n+3u0919ekFBQSeXKSLSOVYVVzFpcB5mFu9SOkU0Ib4V2Orub4SPHyUIdRGRhNLQ1Mw72ys5bEifeJfSaQ4a4u5eDGwxs4nhoFOBd2JalYhIDBQVV7GvsTkpDvLZL9reKdcDD4U9U9YDV8auJBGR2Hh7SwUAR47oG9c6OlNUIe7ui4HpsS1FRCS2Fm7cRX5uBsP7JfY5xCPpiE0R6RHWllTz3IpiTps8KGl2aoJCXER6gMamZq66/y1yM9P50snj4l1Op0r8s7+IiBzEi6tL2bxrL7//9FGM6J9cB5xrS1xEkt6cNzeTn5vBqZMHxbuUTqcQF5Gk9s72Sv61soTLZo4iPTX5Ii/53pGISOiN9eVcP2cReVlpXHXC6HiXExNqExeRpFLX0MS8VSU8uXg7z60oZmifLH572VH0yU6Pd2kxoRAXkYRUs6+Rkqp9bNtdS9HOKoqKKykqrqJoZxV1Dc3k52Zw3ayxXH/KOHplJG/UJe87E5Fuz92pa2imqq6Bqn2NVNU1BvfrGqmsbWD33gYq9taze2/9u/fLa+opqdxH9b7G981rQE4GEwfncemMUZw6eSAzR/cnLQnbwFtSiIvIIalraGJXTT0VexuoqK1nz94GKmobqKxteC+UWwR05P3GZj/g/DNSU+jbK53+ORn07ZXOpMF5nDS+gEG9sxiYl8mQPlmMH5RHQZKcWra9FOIickDuztbdtawtrWbtzmrWllSzraKWHXtqKa3aR2VdY5vPNYPczDR6Z6WTl5VGXlYag3pnMW5gcD83MxjeOyuNvHeneW/afr0y6JWRmlRHWHY2hbiIfMDGshrmrijmzQ27WLBpN3tqG94dF5x7pBcTBuVxwrh8BvbOYkC4ldwnO4M+2en06ZVO76w0cjLSSElRAMeSQlxEANhQVsPf3t7Gi6tLWRKe7W9MQQ4fmzqYDw3vy7iBuYwbmEv/nIz4FirvoxAX6cH2NTbx6MKtPLZwK4s2V5BicMSIvtz8sUmcc8RQhvZNnrP9JSuFuEgP1NzsvLCqhO8/8w4by/cycVAet5w1iXOPHMag3lnxLk/aQSEu0sOs2L6Hbz22lOXbKhmTn8Mfr5rBSePztfMwQSnERXqIPXsb+OW/VvOn1zfRr1cGP7/oCM4+YigZacnflzqZKcRFeoCX15Ty1YcXs6umnstmjuKmMybQt5d2UCYDhbhIEqtraOLnzxdx7ysbGD8wlz9eNYMpQ5PnSu+iEBdJWm9t3MU3H13KhrIaLps5kls/fhjZGanxLks6mUJcJMnsrW/kp3OLuP/VjQzvl82fr5nJh8flx7ssiRGFuEgSKd5Tx6fve4O1JdVccdwovvnRSeRk6mOezPTfFUkSW3bt5dP3vUF5dT0PXTOT47X13SMoxEWSwJ9e38QPn11Jaorxp6tnMG1kv3iXJF1EIS6SwJqbnZ8+X8Tv5q/jIxMKuOO8qUl3NXc5MIW4SIKq2dfI1/+6hH8sL+bSmSO5/dyppOqMgT2OQlwkAdXWN/Hp+95gyZYKbv34ZK4+YbQOm++hFOIiCaaxqZnr57zN4i0V/PbSo/jY4UPiXZLEkU6aIJJA9jU2cdNfl/CvlTu57ewpCnBRiIskCnfnW48u5cnF27np9Alc8eHCeJck3YCaU0QSxG/nr+OJxdv5xpkT+dLJ4+JdjnQTCnGRbm5fYxM/f34197y8nnOOGMoXZ42Nd0nSjSjERbqxxqZmrn1gIS+uLuWCo4Zz+3lT1AtF3kchLtKN/eqFNby4upTvnz+Vy2aOinc50g1FvWPTzFLN7G0zezqWBYlI4JEFW/jNvLV8cvpwBbi0qT29U74CrIxVISLynscWbuWbjy7lhHH5/M85U+NdjnRjUYW4mQ0HPg7cG9tyRGTHnlpue2oFM0b3574rjtGFHOSAot0SvxP4JtAcu1JExN359uPLaGx2fnbhEbqIsRzUQdcQM/sEUOLuCw8y3bVmtsDMFpSWlnZagSI9yS//uZr5RaV866MTGTlAZyOUg4vma/544Bwz2wj8BTjFzB5sOZG7z3b36e4+vaCgoJPLFEl+T7y9jbv+vZaLjh6uozElagcNcXf/trsPd/dC4GLg3+7+6ZhXJtKDVO9r5PvPruSIEX350QUfUl9wiZr6iYt0A7/+9xpKq/Yx+/KjdU5waZd2hbi7zwfmx6QSkR5qbUk19728gQuPHq7Lqkm7ade3SJzd/vQ7ZGekcvPHJsW7FElACnGROJpXVMKLq0v5yqnjyc/NjHc5koAU4iJx0tDUzB1Pv8Po/Bw+c1xhvMuRBKUQF4mTP7yygXWlNXznrMk6qEc6TGuOSBy8uWEXP5lbxBmHDeLUyQPjXY4kMIW4SBfbW9/I1/+6hGF9s/n5J49Qn3A5JOonLtLF7n91I5t37WXO544lLys93uVIgtOWuEgXqqxr4H9fXM/JEws4buyAeJcjSUAhLtKFZr+4nj21DXzt9InxLkWShEJcpIss27qH2S+t5/xpwzh8eJ94lyNJQiEu0gVKquq48v63yM/N4Ns6MlM6kXZsisRYU7PzlTmLqd7XwBNfOp6BvbPiXZIkEYW4SAy5Oz+dW8Rr68v56YUfYtLg3vEuSZKMQlwkRpqanW8+upTHFm3l0pkjuWj6iHiXJElIIS4SI7/4ZxGPLdrKDaeM48bTJsS7HElSCnGRGHhm6Q7unreOi48ZwdfOUHdCiR2FuEgnu++VDdz+9DscOaIvt50zJd7lSJJTF0ORTvTssh3c/vQ7fGzqYOZ87liy0lPjXZIkOW2Ji3SStzfv5qsPL+boUf345aeOVIBLl9CWuEgnWLmjkmv+uIBBvbOYffnRCnDpMgpxkUNUXr2Py+97k4y0FO6/8hgG6DJr0oXUnCJyCNydW/62jMraBp66/njGFOTGuyTpYbQlLnIIHnx9E3NX7OTrZ07Q0ZgSFwpxkQ56cvE2/t+TKzh5YgFXnzAm3uVID6UQF+mA1TuruPmxZRxT2I/fX340qSm6xJrEh0JcpJ327G3gCw8uJCczjbsvPYrMNPVEkfhRiIu0Q11DE597YAFbd9Vy96XTdFpZiTv1ThGJUnOzc9MjS3hz4y7uumQaM8foGpkSf9oSF4mCu3P7M+/wzLIdfOesyZxzxNB4lyQCaEtc5KC27t7LD59dxTPLdnDl8YVcc+LoeJck8i6FuEgb3J0nFm/jlseX4zhfO30CXz55HGbqiSLdh0JcpIWmZuel1aX8+t9rWLS5gqNH9eOuS6YxrG92vEsT+QCFuEhoe0UtjyzYwiNvbWH7njoG9c7kxxcczoVHj1A/cOm2FOLSozU2NTO/qJQ5b25mXlEJzQ4njs/n1k8cxmmTB5GRpn3/0r0pxKXHaWp23lhfzktrynji7W0UV9ZRkJfJdbPG8qnpIxk5oFe8SxSJ2kFD3MxGAA8Ag4FmYLa7/yrWhYl0pvrGZl5cXcr8ohJeWFlCcWUdKQYnji/gtnOmcOrkgaSnaqtbEk80W+KNwE3uvsjM8oCFZvZPd38nxrWJHJLa+iZeXF3Cv1eV8Pw7O6nY20BuZhrHjhnA//vEYcyaWEBOpn6MSmI76Brs7juAHeH9KjNbCQwDFOLS7eyqqeeJt7fx/DvFLNpUQX1TM72z0vjIxIH817RhnDA+X1vcklTatRliZoXANOCNmFQj0gF1DU08uXgbTy/dwevry2lociYNzuOzxxdy0vgCjhs7QL1LJGlFHeJmlgs8Btzo7pWtjL8WuBZg5MiRnVagSFvWlVbz8FtbeHzRVsqq6xlbkMNnP1zIBUcP1wUapMeIKsTNLJ0gwB9y98dbm8bdZwOzAaZPn+6dVqFIBHdn8ZYKHnhtE08u3kZqivGRCQVcdfxojhs7QEdTSo8TTe8UA+4DVrr7L2Jfkkjr3tq4i588t4q3Nu4mOz2Vz504hs+dNIZ8XZhYerBotsSPBy4HlpnZ4nDYLe7+bMyqEomwfNsefvzcKl5eU0ZBXibfO3cK5x45jD7Z6fEuTSTuoumd8gqg36jS5eoamvjd/HX8Zt5a+mSnc8tZk7j82EKyM3QlHZH91ElWuqWnl27ntqdWUFZdz/nThnHb2VPo00tb3iItKcSl23B3VhVX8bv563hqyXaOGNGXX19yFMeN1RV0RNqiEJe4a2525hWVcPvT77CxfC/pqcZNp0/gulljSdOBOSIHpBCXuGhsauatjbt5bvkO5q7YSXFlHeMG5vKTCz7ErIkFugCxSJQU4tJl9jU28dq6cv6xrJh/rtzJrpp6MtNS+MiEAr51+EQ+fvhQnfpVpJ0U4hIz7s7bWyp4c8Mu3t68m1fWlFFT30RuZhqnTBrImVMG6yRUIodInx7pdGtLqnl80VaeWrKdrbtrARjRP5tzjhzKqZMGccL4fLLS1U1QpDMoxKVTlFTV8dzyYp5bXsyr68pJTTGOH5fPjadN4JRJA+mfkxHvEkWSkkJcDknxnjrueXk9D76+iX2NzYwa0ItvnDmRT04fQUGeDocXiTWFuHTIpvIafvb8ap5euh0Dzp82nOtmjWHcwLx4lybSoyjEpV2Kiqu4e95anl66nYy0FD5/0lgunaHrUorEi0JcorKrpp67XljDA69tJDs9lWtOHMPVJ4xmkPpzi8SVQlwOaF9jcBKq381fR0NTM58+dhRfO30CfXtpR6VId6AQlzatKq7kxr8sZlVxFWcfMZQbThnH+EFq8xbpThTi8gHuziMLtvDfT64gLyud+66YzqmTB8W7LBFphUJc3mdvfSO3PrGcxxdt44Rx+dx58ZG6co5IN6YQl3etLaniugcXsba0mhtPG8/1p4zXVeJFujmFuODuPLpwK999agXZ6an86aqZnDA+P95liUgUFOI93Nbde/nqw4t5a+NuZhT2565LpjG4j7oNiiQKhXgPNr+ohBsfXkxTk/PjCw7noqNHkKLmE5GEohDvgSrrGvjhs6uY8+ZmJg7K4/eXH83o/Jx4lyUiHaAQ72GeW17Mfz+5nLLqfVx70hi+dvoEnRZWJIEpxHuInZV1fPfJFTy3opjDhvTmviuO4fDhfeJdlogcIoV4kqtraOKhNzZz579WU9/YzLc+OolrThxNui5ALJIUFOJJyt15bnkxdzyzkm0VtZw4Pp/vnTtVbd8iSUYhnoRW76zif/6+gv+sLWfS4Dz+/LmZfHis+n2LJCOFeBKprGvgzn+u4Y+vbSQ3M43bz53CJTNGkqamE5GkpRBPAntqG/jfF9fxp9c2UV3fyCUzRvL1MybqupYiPYBCPIHVNTTxx1c38tv566isa+Csw4dw3UfGMnWYep2I9BQK8QRU19DEE29v485/raG4so5ZEwv45pmTOGxo73iXJiJdTCGeIJqbnTc37uJvi7bx7LIdVO1r5MgRfbnz4iM5dsyAeJcnInGiEO/m1pVW87dF2/jb29vYVlFLTkYqH506hAuOGsZxYwdgpnOdiPRkCvFuaFdNPX9fsp3HF21lydY9pBicML6Ab5w5kTOmDKJXhv5tIhJQGnQD7s660hrmrSphXlEJb27YRWOzM3lIb75z1mTOPXIoA3VVeRFphUI8Dtyd9WU1vLlhF29u2MUb68vZvqcOgAmDcrnmxDGce+RQJg/RjkoRObCoQtzMPgr8CkgF7nX3H8W0qiTh7uys3Mf6smo2lNWwvrSGDWU1LN1aQVl1PQD5uZnMHN2fL44dwKyJBQzv1yvOVYtIIjloiJtZKnA3cDqwFXjLzJ5y93diXVx35e7sa2ymel8j1XWNVNY1sLNyHzsr6yjeU8fG8iCsN5TVsLe+6d3nZaalMDo/hxPHFzBzdH9mjO7P6Pwc7ZwUkQ6LZkt8BrDW3dcDmNlfgHOBNkO8rHof9768/t3H7uFfPOJ+68OD6f3d53nEPBxvMb/3HrQ1v5bDed9wp6kZGpqaaWxupr7RaWxupqGpmYYmpzH8W9fQRPW+RqrqGqmpD4K7sTmi4AgpBsP6ZTMmP5djCvszpiCHMfm5jC7IYUjvLF05R0Q6VTQhPgzYEvF4KzCz5URmdi1wLUDG4HHc8czKTikwGvs3ZC2oI+L+/uEWDGhleFqKkZZqpKWmkJGaQlqqkZ6aQlqKkZEW/M1KT2VkTi9yM9PIzUojNzONnMw08sL7eVnpDMzLZHCfLAbkZOhcJSLSZaIJ8dY2HT+wGerus4HZANOOOtrnf/eMqMI1siWhteFtPldNECIiUYX4VmBExOPhwPYDPSE1xeiTnX4odYmISBSi+d3/FjDezEabWQZwMfBUbMsSEZFoHHRL3N0bzezLwFyCLoZ/cPcVMa9MREQOKqp+4u7+LPBsjGsREZF2UjcKEZEEphAXEUlgCnERkQSmEBcRSWDm3vrh44c0U7MqoChiUB9gTztm0d7pAfKBshi/RlfU1ZHXUV3dry6tX6qrPfKBAe6e187nBecP6ewbsKDF49ntfH67pm/tNWP0GjGvq7suL9Wl9Ut1xbaujtTm7l3WnPL3GE/fER15ja6oqyOvo7piO31HaP1qP9XVAbFqTlng7tM7fcbd7DWjobraR3W1j+pqn+5cF0BHaovVlX1mx2i+3e01o6G62kd1tY/qap+kqysmW+IiItI11MVQRCSBKcRFRBJYQoW4mZ1vZm5mk+JdS2vMrPog4+ebWZftVDGz4Wb2pJmtMbN1Zvar8HTCbU1/o5l1yZWaD7as4kHrV7vr0frVDrFavxIqxIFLgFcIzmketfBizz2KBZc+ehx4wt3HAxOAXOD7B3jajUCXfMi6Ka1fUdL61SGxWb860rk8HjeCFWQbwcqyKhw2C3gJ+BvBhZt/D6SE46qB7wFvACd0UY3VYU1PRwz7DfDZ8P58YHoX1XIq8FKLYb2BciAH+BmwDFgKXA/cANSHw+Z10bLKBV4AFoWve244rhBYCdwDrACeB7K1fmn90vr1wVsibYmfBzzn7quBXWZ2VDh8BnATcDgwFvivcHgOsNzdZ7r7K11dbDcwBVgYOcDdK4HNwDXAaGCau38IeMjd7yK47N7J7n5yF9VYB5zv7kcBJwM/t/cunjoeuNvdpwAVwAUxruU8tH61h9av9jmPGK1fiRTilwB/Ce//JXwM8Ka7r3f3JmAOcEI4vAl4rGtL7FaMVi5oHQ4/Cfi9uzcCuPuuriysRS0/MLOlwL+AYcCgcNwGd18c3l9IsPUUS1q/2kfrV/vEbP2K1cE+ncrMBgCnAFPNzAkuE+cEVxtquSLtf1wXLpiu1sj7vxyz4lADBD8T37d1YWa9CS56vZ7WP4Bd7TKgADja3RvMbCPvLa99EdM1AdmxKkLrV4do/YpSrNevRNkSvxB4wN1HuXuhu48ANhB8a80IL+KcAnyKYMdBPG0CDjOzTDPrQ9B2GA8vAL3M7DPw7s6RnwP3E7QBfsHM0sJx/cPnVAHtP4tax/UBSsIP2MnAqC587Uhav9pP61f0Yrp+JUqIX0LQ+B/pMeBS4DXgR8ByggXTcrouEa6w+9x9C/AIwQ6dh4C341GPB3tHzgcuMrM1wGqCNsJbgHsJ2i6XmtkSguUIwaG//zCzebGsbf+yIlg+08PzRlwGrIrl6x6A1q920vrVLjFdvxL6sHszmwV83d0/EedSMLMjgHvcfUa8a+nuEmVZaf1KTImyrDpr/UqULfFuzcy+QLBT4tZ419LdaVm1n5ZZ9HriskroLXERkZ5OW+ISU2Y2wszmmdlKM1thZl8Jh/c3s3+Gh2z/08z6hcNPN7OFZrYs/HtKxLy+b2ZbuuMh1RIfnbV+mVkvM3vGzFaF8/lRPN9Xe2hLXGLKzIYAQ9x9kZnlEfTJPQ/4LLDL3X9kZjcD/dz9W2Y2Ddjp7tvNbCow192HhfM6lqB3xhp3z43H+5HupbPWr/CcLjPdfZ4F5395AfiBu/8jLm+sHRTi0qXM7EmCQ8V/A8xy9x3hB3G+u09sMa0RXNR2qLvvixherRCX1nTG+hWO+xXBEZP3dFHpHabmFOkyZlYITCM4H8Qgd98BEP4d2MpTLgDebvkBE2lNZ61fZtYXOJtga7zbS4gjNiXxmVkuQd/YG9298r1TWLQ5/RTgx8AZXVCeJLjOWr/CPuZzgLvcfX2Myu1U2hKXmDOzdIIP2EPu/ng4eGf4M3d/u2ZJxPTDCQ56+Iy7r+vqeiWxdPL6NZtgn8udMS+8kyjEJabCdsf7gJXu/ouIUU8BV4T3rwCeDKfvCzwDfNvd/9OFpUoC6sz1y8zuIDhU/8bYVt25tGNTYsrMTgBeJjifc3M4+BaCdstHgJEEh2hf5O67zOxW4NvAmojZnOHuJWb2E4JDlYcSnNb0Xne/rUveiHRLnbV+ARnAFoJD8/e3kf/G3e+N+Zs4RApxEZEEpuYUEZEEphAXEUlgCnERkQSmEBcRSWAKcRGRBKYQl4RnZk1mtjg8+9wSM/taeLmrAz2n0MwuPdA0IolAIS7JoNbdj3T3KcDpwFnAdw/ynELeu2yYSMJSP3FJeC3PamhmY4C3gHyCi+P+CcgJR3/Z3V81s9eByQTXNfwjcBfBtQ5nAZnA3e7+v132JkQ6SCEuCa+1U9Oa2W5gEsEV1pvdvc7MxgNz3H16y+sbmtm1wEB3v8PMMoH/EBzlt6Er34tIe+kshpKs9p/GLh34jZkdCTQBE9qY/gzgQ2Z2Yfi4DzCeYEtdpNtSiEvSCZtTmgjOXPddYCdwBME+oLq2ngZc7+5zu6RIkU6iHZuSVMysAPg9wcmLnGCLeoe7NwOXA6nhpFVAXsRT5wLXhac1xcwmmFkOIt2ctsQlGWSb2WKCppNGgh2Z+09L+lvgMTO7CJgH1ITDlwKNZrYEuB/4FUGPlUXh6U1LCa7VKNKtacemiEgCU3OKiEgCU4iLiCQwhbiISAJTiIuIJDCFuIhIAlOIi4gkMIW4iEgCU4iLiCSw/w/tDyJL/PU1QAAAAABJRU5ErkJggg==\n",
=======
      "image/png": "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\n",
>>>>>>> ab98c929639cbecc88617c0fc74767f6e3b5df7e
      "text/plain": [
       "<Figure size 432x288 with 1 Axes>"
      ]
     },
     "metadata": {
      "needs_background": "light"
     },
     "output_type": "display_data"
    }
   ],
   "source": [
    "url_pt = 'https://api.covid19api.com/country/portugal/status/confirmed/live'\n",
    "df_pt = pd.read_json(url_pt)\n",
    "df_pt.set_index('Date')['Cases'].plot(title=\"Casos de Covid19 en Portugal\")"
   ]
  },
  {
   "cell_type": "code",
   "execution_count": 26,
   "id": "7d37e59a",
   "metadata": {},
   "outputs": [],
   "source": [
    "casos_es = df_es.set_index('Date')['Cases']\n",
    "casos_co = df_co.set_index('Date')['Cases']\n",
<<<<<<< HEAD
    "casos_arg = df_arg.set_index('Date')['Cases']"
   ]
  },
  {
   "cell_type": "code",
   "execution_count": 28,
   "id": "e0d7b9b2",
   "metadata": {},
   "outputs": [
    {
     "data": {
      "text/plain": [
       "Date\n",
       "2020-01-22 00:00:00+00:00          0\n",
       "2020-01-23 00:00:00+00:00          0\n",
       "2020-01-24 00:00:00+00:00          0\n",
       "2020-01-25 00:00:00+00:00          0\n",
       "2020-01-26 00:00:00+00:00          0\n",
       "                              ...   \n",
       "2022-04-01 00:00:00+00:00    9039838\n",
       "2022-04-02 00:00:00+00:00    9040640\n",
       "2022-04-03 00:00:00+00:00    9041124\n",
       "2022-04-04 00:00:00+00:00    9043098\n",
       "2022-04-05 00:00:00+00:00    9043098\n",
       "Name: Cases, Length: 805, dtype: int64"
      ]
     },
     "execution_count": 28,
     "metadata": {},
     "output_type": "execute_result"
    }
   ],
   "source": [
    "casos_arg"
=======
    "casos_pt = df_pt.set_index('Date')['Cases']"
>>>>>>> ab98c929639cbecc88617c0fc74767f6e3b5df7e
   ]
  },
  {
   "cell_type": "code",
   "execution_count": 27,
   "id": "03004ace",
   "metadata": {},
   "outputs": [
    {
     "data": {
      "text/html": [
       "<div>\n",
       "<style scoped>\n",
       "    .dataframe tbody tr th:only-of-type {\n",
       "        vertical-align: middle;\n",
       "    }\n",
       "\n",
       "    .dataframe tbody tr th {\n",
       "        vertical-align: top;\n",
       "    }\n",
       "\n",
       "    .dataframe thead th {\n",
       "        text-align: right;\n",
       "    }\n",
       "</style>\n",
       "<table border=\"1\" class=\"dataframe\">\n",
       "  <thead>\n",
       "    <tr style=\"text-align: right;\">\n",
       "      <th></th>\n",
       "      <th>Cases</th>\n",
       "      <th>Cases</th>\n",
       "      <th>Cases</th>\n",
       "    </tr>\n",
       "    <tr>\n",
       "      <th>Date</th>\n",
       "      <th></th>\n",
       "      <th></th>\n",
       "      <th></th>\n",
       "    </tr>\n",
       "  </thead>\n",
       "  <tbody>\n",
       "    <tr>\n",
       "      <th>2020-01-22 00:00:00+00:00</th>\n",
       "      <td>0.0</td>\n",
       "      <td>0.0</td>\n",
       "      <td>0</td>\n",
       "    </tr>\n",
       "    <tr>\n",
       "      <th>2020-01-23 00:00:00+00:00</th>\n",
       "      <td>0.0</td>\n",
       "      <td>0.0</td>\n",
       "      <td>0</td>\n",
       "    </tr>\n",
       "    <tr>\n",
       "      <th>2020-01-24 00:00:00+00:00</th>\n",
       "      <td>0.0</td>\n",
       "      <td>0.0</td>\n",
       "      <td>0</td>\n",
       "    </tr>\n",
       "    <tr>\n",
       "      <th>2020-01-25 00:00:00+00:00</th>\n",
       "      <td>0.0</td>\n",
       "      <td>0.0</td>\n",
       "      <td>0</td>\n",
       "    </tr>\n",
       "    <tr>\n",
       "      <th>2020-01-26 00:00:00+00:00</th>\n",
       "      <td>0.0</td>\n",
       "      <td>0.0</td>\n",
       "      <td>0</td>\n",
       "    </tr>\n",
       "    <tr>\n",
       "      <th>...</th>\n",
       "      <td>...</td>\n",
       "      <td>...</td>\n",
       "      <td>...</td>\n",
       "    </tr>\n",
       "    <tr>\n",
       "      <th>2022-04-01 00:00:00+00:00</th>\n",
       "      <td>11551574.0</td>\n",
       "      <td>6085270.0</td>\n",
<<<<<<< HEAD
       "      <td>9039838</td>\n",
=======
       "      <td>3604114</td>\n",
>>>>>>> ab98c929639cbecc88617c0fc74767f6e3b5df7e
       "    </tr>\n",
       "    <tr>\n",
       "      <th>2022-04-02 00:00:00+00:00</th>\n",
       "      <td>11551574.0</td>\n",
       "      <td>6085618.0</td>\n",
<<<<<<< HEAD
       "      <td>9040640</td>\n",
=======
       "      <td>3604114</td>\n",
>>>>>>> ab98c929639cbecc88617c0fc74767f6e3b5df7e
       "    </tr>\n",
       "    <tr>\n",
       "      <th>2022-04-03 00:00:00+00:00</th>\n",
       "      <td>11551574.0</td>\n",
       "      <td>6085926.0</td>\n",
<<<<<<< HEAD
       "      <td>9041124</td>\n",
=======
       "      <td>3604114</td>\n",
>>>>>>> ab98c929639cbecc88617c0fc74767f6e3b5df7e
       "    </tr>\n",
       "    <tr>\n",
       "      <th>2022-04-04 00:00:00+00:00</th>\n",
       "      <td>11551574.0</td>\n",
       "      <td>6086233.0</td>\n",
<<<<<<< HEAD
       "      <td>9043098</td>\n",
=======
       "      <td>3609846</td>\n",
>>>>>>> ab98c929639cbecc88617c0fc74767f6e3b5df7e
       "    </tr>\n",
       "    <tr>\n",
       "      <th>2022-04-05 00:00:00+00:00</th>\n",
       "      <td>NaN</td>\n",
       "      <td>NaN</td>\n",
<<<<<<< HEAD
       "      <td>9043098</td>\n",
=======
       "      <td>3609846</td>\n",
>>>>>>> ab98c929639cbecc88617c0fc74767f6e3b5df7e
       "    </tr>\n",
       "  </tbody>\n",
       "</table>\n",
       "<p>805 rows × 3 columns</p>\n",
       "</div>"
      ],
      "text/plain": [
       "                                Cases      Cases    Cases\n",
       "Date                                                     \n",
       "2020-01-22 00:00:00+00:00         0.0        0.0        0\n",
       "2020-01-23 00:00:00+00:00         0.0        0.0        0\n",
       "2020-01-24 00:00:00+00:00         0.0        0.0        0\n",
       "2020-01-25 00:00:00+00:00         0.0        0.0        0\n",
       "2020-01-26 00:00:00+00:00         0.0        0.0        0\n",
       "...                               ...        ...      ...\n",
<<<<<<< HEAD
       "2022-04-01 00:00:00+00:00  11551574.0  6085270.0  9039838\n",
       "2022-04-02 00:00:00+00:00  11551574.0  6085618.0  9040640\n",
       "2022-04-03 00:00:00+00:00  11551574.0  6085926.0  9041124\n",
       "2022-04-04 00:00:00+00:00  11551574.0  6086233.0  9043098\n",
       "2022-04-05 00:00:00+00:00         NaN        NaN  9043098\n",
=======
       "2022-04-01 00:00:00+00:00  11551574.0  6085270.0  3604114\n",
       "2022-04-02 00:00:00+00:00  11551574.0  6085618.0  3604114\n",
       "2022-04-03 00:00:00+00:00  11551574.0  6085926.0  3604114\n",
       "2022-04-04 00:00:00+00:00  11551574.0  6086233.0  3609846\n",
       "2022-04-05 00:00:00+00:00         NaN        NaN  3609846\n",
>>>>>>> ab98c929639cbecc88617c0fc74767f6e3b5df7e
       "\n",
       "[805 rows x 3 columns]"
      ]
     },
     "execution_count": 27,
     "metadata": {},
     "output_type": "execute_result"
    }
   ],
   "source": [
    "pd.concat([casos_es,casos_co,casos_pt],axis=1)"
   ]
  },
  {
   "cell_type": "code",
   "execution_count": 28,
   "id": "744c68bd",
   "metadata": {},
   "outputs": [
    {
     "data": {
      "text/html": [
       "<div>\n",
       "<style scoped>\n",
       "    .dataframe tbody tr th:only-of-type {\n",
       "        vertical-align: middle;\n",
       "    }\n",
       "\n",
       "    .dataframe tbody tr th {\n",
       "        vertical-align: top;\n",
       "    }\n",
       "\n",
       "    .dataframe thead th {\n",
       "        text-align: right;\n",
       "    }\n",
       "</style>\n",
       "<table border=\"1\" class=\"dataframe\">\n",
       "  <thead>\n",
       "    <tr style=\"text-align: right;\">\n",
       "      <th></th>\n",
       "      <th>Cases</th>\n",
       "      <th>Cases</th>\n",
       "      <th>Cases</th>\n",
       "    </tr>\n",
       "    <tr>\n",
       "      <th>Date</th>\n",
       "      <th></th>\n",
       "      <th></th>\n",
       "      <th></th>\n",
       "    </tr>\n",
       "  </thead>\n",
       "  <tbody>\n",
       "    <tr>\n",
       "      <th>2020-01-22 00:00:00+00:00</th>\n",
       "      <td>0.0</td>\n",
       "      <td>0.0</td>\n",
       "      <td>0</td>\n",
       "    </tr>\n",
       "    <tr>\n",
       "      <th>2020-01-23 00:00:00+00:00</th>\n",
       "      <td>0.0</td>\n",
       "      <td>0.0</td>\n",
       "      <td>0</td>\n",
       "    </tr>\n",
       "    <tr>\n",
       "      <th>2020-01-24 00:00:00+00:00</th>\n",
       "      <td>0.0</td>\n",
       "      <td>0.0</td>\n",
       "      <td>0</td>\n",
       "    </tr>\n",
       "    <tr>\n",
       "      <th>2020-01-25 00:00:00+00:00</th>\n",
       "      <td>0.0</td>\n",
       "      <td>0.0</td>\n",
       "      <td>0</td>\n",
       "    </tr>\n",
       "    <tr>\n",
       "      <th>2020-01-26 00:00:00+00:00</th>\n",
       "      <td>0.0</td>\n",
       "      <td>0.0</td>\n",
       "      <td>0</td>\n",
       "    </tr>\n",
       "    <tr>\n",
       "      <th>...</th>\n",
       "      <td>...</td>\n",
       "      <td>...</td>\n",
       "      <td>...</td>\n",
       "    </tr>\n",
       "    <tr>\n",
       "      <th>2022-04-01 00:00:00+00:00</th>\n",
       "      <td>11551574.0</td>\n",
       "      <td>6085270.0</td>\n",
<<<<<<< HEAD
       "      <td>9039838</td>\n",
=======
       "      <td>3604114</td>\n",
>>>>>>> ab98c929639cbecc88617c0fc74767f6e3b5df7e
       "    </tr>\n",
       "    <tr>\n",
       "      <th>2022-04-02 00:00:00+00:00</th>\n",
       "      <td>11551574.0</td>\n",
       "      <td>6085618.0</td>\n",
<<<<<<< HEAD
       "      <td>9040640</td>\n",
=======
       "      <td>3604114</td>\n",
>>>>>>> ab98c929639cbecc88617c0fc74767f6e3b5df7e
       "    </tr>\n",
       "    <tr>\n",
       "      <th>2022-04-03 00:00:00+00:00</th>\n",
       "      <td>11551574.0</td>\n",
       "      <td>6085926.0</td>\n",
<<<<<<< HEAD
       "      <td>9041124</td>\n",
=======
       "      <td>3604114</td>\n",
>>>>>>> ab98c929639cbecc88617c0fc74767f6e3b5df7e
       "    </tr>\n",
       "    <tr>\n",
       "      <th>2022-04-04 00:00:00+00:00</th>\n",
       "      <td>11551574.0</td>\n",
       "      <td>6086233.0</td>\n",
<<<<<<< HEAD
       "      <td>9043098</td>\n",
=======
       "      <td>3609846</td>\n",
>>>>>>> ab98c929639cbecc88617c0fc74767f6e3b5df7e
       "    </tr>\n",
       "    <tr>\n",
       "      <th>2022-04-05 00:00:00+00:00</th>\n",
       "      <td>NaN</td>\n",
       "      <td>NaN</td>\n",
<<<<<<< HEAD
       "      <td>9043098</td>\n",
=======
       "      <td>3609846</td>\n",
>>>>>>> ab98c929639cbecc88617c0fc74767f6e3b5df7e
       "    </tr>\n",
       "  </tbody>\n",
       "</table>\n",
       "<p>805 rows × 3 columns</p>\n",
       "</div>"
      ],
      "text/plain": [
       "                                Cases      Cases    Cases\n",
       "Date                                                     \n",
       "2020-01-22 00:00:00+00:00         0.0        0.0        0\n",
       "2020-01-23 00:00:00+00:00         0.0        0.0        0\n",
       "2020-01-24 00:00:00+00:00         0.0        0.0        0\n",
       "2020-01-25 00:00:00+00:00         0.0        0.0        0\n",
       "2020-01-26 00:00:00+00:00         0.0        0.0        0\n",
       "...                               ...        ...      ...\n",
<<<<<<< HEAD
       "2022-04-01 00:00:00+00:00  11551574.0  6085270.0  9039838\n",
       "2022-04-02 00:00:00+00:00  11551574.0  6085618.0  9040640\n",
       "2022-04-03 00:00:00+00:00  11551574.0  6085926.0  9041124\n",
       "2022-04-04 00:00:00+00:00  11551574.0  6086233.0  9043098\n",
       "2022-04-05 00:00:00+00:00         NaN        NaN  9043098\n",
=======
       "2022-04-01 00:00:00+00:00  11551574.0  6085270.0  3604114\n",
       "2022-04-02 00:00:00+00:00  11551574.0  6085618.0  3604114\n",
       "2022-04-03 00:00:00+00:00  11551574.0  6085926.0  3604114\n",
       "2022-04-04 00:00:00+00:00  11551574.0  6086233.0  3609846\n",
       "2022-04-05 00:00:00+00:00         NaN        NaN  3609846\n",
>>>>>>> ab98c929639cbecc88617c0fc74767f6e3b5df7e
       "\n",
       "[805 rows x 3 columns]"
      ]
     },
     "execution_count": 28,
     "metadata": {},
     "output_type": "execute_result"
    }
   ],
   "source": [
    "vs = pd.concat([casos_es,casos_co,casos_pt],axis=1)\n",
    "vs"
   ]
  },
  {
   "cell_type": "code",
   "execution_count": 29,
   "id": "71bb7c53",
   "metadata": {},
   "outputs": [
    {
     "data": {
      "text/html": [
       "<div>\n",
       "<style scoped>\n",
       "    .dataframe tbody tr th:only-of-type {\n",
       "        vertical-align: middle;\n",
       "    }\n",
       "\n",
       "    .dataframe tbody tr th {\n",
       "        vertical-align: top;\n",
       "    }\n",
       "\n",
       "    .dataframe thead th {\n",
       "        text-align: right;\n",
       "    }\n",
       "</style>\n",
       "<table border=\"1\" class=\"dataframe\">\n",
       "  <thead>\n",
       "    <tr style=\"text-align: right;\">\n",
       "      <th></th>\n",
       "      <th>España</th>\n",
       "      <th>Colombia</th>\n",
       "      <th>Portugal</th>\n",
       "    </tr>\n",
       "    <tr>\n",
       "      <th>Date</th>\n",
       "      <th></th>\n",
       "      <th></th>\n",
       "      <th></th>\n",
       "    </tr>\n",
       "  </thead>\n",
       "  <tbody>\n",
       "    <tr>\n",
       "      <th>2020-01-22 00:00:00+00:00</th>\n",
       "      <td>0.0</td>\n",
       "      <td>0.0</td>\n",
       "      <td>0</td>\n",
       "    </tr>\n",
       "    <tr>\n",
       "      <th>2020-01-23 00:00:00+00:00</th>\n",
       "      <td>0.0</td>\n",
       "      <td>0.0</td>\n",
       "      <td>0</td>\n",
       "    </tr>\n",
       "    <tr>\n",
       "      <th>2020-01-24 00:00:00+00:00</th>\n",
       "      <td>0.0</td>\n",
       "      <td>0.0</td>\n",
       "      <td>0</td>\n",
       "    </tr>\n",
       "    <tr>\n",
       "      <th>2020-01-25 00:00:00+00:00</th>\n",
       "      <td>0.0</td>\n",
       "      <td>0.0</td>\n",
       "      <td>0</td>\n",
       "    </tr>\n",
       "    <tr>\n",
       "      <th>2020-01-26 00:00:00+00:00</th>\n",
       "      <td>0.0</td>\n",
       "      <td>0.0</td>\n",
       "      <td>0</td>\n",
       "    </tr>\n",
       "    <tr>\n",
       "      <th>...</th>\n",
       "      <td>...</td>\n",
       "      <td>...</td>\n",
       "      <td>...</td>\n",
       "    </tr>\n",
       "    <tr>\n",
       "      <th>2022-04-01 00:00:00+00:00</th>\n",
       "      <td>11551574.0</td>\n",
       "      <td>6085270.0</td>\n",
<<<<<<< HEAD
       "      <td>9039838</td>\n",
=======
       "      <td>3604114</td>\n",
>>>>>>> ab98c929639cbecc88617c0fc74767f6e3b5df7e
       "    </tr>\n",
       "    <tr>\n",
       "      <th>2022-04-02 00:00:00+00:00</th>\n",
       "      <td>11551574.0</td>\n",
       "      <td>6085618.0</td>\n",
<<<<<<< HEAD
       "      <td>9040640</td>\n",
=======
       "      <td>3604114</td>\n",
>>>>>>> ab98c929639cbecc88617c0fc74767f6e3b5df7e
       "    </tr>\n",
       "    <tr>\n",
       "      <th>2022-04-03 00:00:00+00:00</th>\n",
       "      <td>11551574.0</td>\n",
       "      <td>6085926.0</td>\n",
<<<<<<< HEAD
       "      <td>9041124</td>\n",
=======
       "      <td>3604114</td>\n",
>>>>>>> ab98c929639cbecc88617c0fc74767f6e3b5df7e
       "    </tr>\n",
       "    <tr>\n",
       "      <th>2022-04-04 00:00:00+00:00</th>\n",
       "      <td>11551574.0</td>\n",
       "      <td>6086233.0</td>\n",
<<<<<<< HEAD
       "      <td>9043098</td>\n",
=======
       "      <td>3609846</td>\n",
>>>>>>> ab98c929639cbecc88617c0fc74767f6e3b5df7e
       "    </tr>\n",
       "    <tr>\n",
       "      <th>2022-04-05 00:00:00+00:00</th>\n",
       "      <td>NaN</td>\n",
       "      <td>NaN</td>\n",
<<<<<<< HEAD
       "      <td>9043098</td>\n",
=======
       "      <td>3609846</td>\n",
>>>>>>> ab98c929639cbecc88617c0fc74767f6e3b5df7e
       "    </tr>\n",
       "  </tbody>\n",
       "</table>\n",
       "<p>805 rows × 3 columns</p>\n",
       "</div>"
      ],
      "text/plain": [
<<<<<<< HEAD
       "                               España   Colombia  Argentina\n",
       "Date                                                       \n",
       "2020-01-22 00:00:00+00:00         0.0        0.0          0\n",
       "2020-01-23 00:00:00+00:00         0.0        0.0          0\n",
       "2020-01-24 00:00:00+00:00         0.0        0.0          0\n",
       "2020-01-25 00:00:00+00:00         0.0        0.0          0\n",
       "2020-01-26 00:00:00+00:00         0.0        0.0          0\n",
       "...                               ...        ...        ...\n",
       "2022-04-01 00:00:00+00:00  11551574.0  6085270.0    9039838\n",
       "2022-04-02 00:00:00+00:00  11551574.0  6085618.0    9040640\n",
       "2022-04-03 00:00:00+00:00  11551574.0  6085926.0    9041124\n",
       "2022-04-04 00:00:00+00:00  11551574.0  6086233.0    9043098\n",
       "2022-04-05 00:00:00+00:00         NaN        NaN    9043098\n",
=======
       "                               España   Colombia  Portugal\n",
       "Date                                                      \n",
       "2020-01-22 00:00:00+00:00         0.0        0.0         0\n",
       "2020-01-23 00:00:00+00:00         0.0        0.0         0\n",
       "2020-01-24 00:00:00+00:00         0.0        0.0         0\n",
       "2020-01-25 00:00:00+00:00         0.0        0.0         0\n",
       "2020-01-26 00:00:00+00:00         0.0        0.0         0\n",
       "...                               ...        ...       ...\n",
       "2022-04-01 00:00:00+00:00  11551574.0  6085270.0   3604114\n",
       "2022-04-02 00:00:00+00:00  11551574.0  6085618.0   3604114\n",
       "2022-04-03 00:00:00+00:00  11551574.0  6085926.0   3604114\n",
       "2022-04-04 00:00:00+00:00  11551574.0  6086233.0   3609846\n",
       "2022-04-05 00:00:00+00:00         NaN        NaN   3609846\n",
>>>>>>> ab98c929639cbecc88617c0fc74767f6e3b5df7e
       "\n",
       "[805 rows x 3 columns]"
      ]
     },
     "execution_count": 29,
     "metadata": {},
     "output_type": "execute_result"
    }
   ],
   "source": [
    "vs.columns = ['España', 'Colombia', 'Portugal']\n",
    "vs"
   ]
  },
  {
   "cell_type": "code",
   "execution_count": 30,
   "id": "b856367d",
   "metadata": {},
   "outputs": [
    {
     "data": {
      "text/plain": [
       "<AxesSubplot:title={'center':'España VS Colombia VS Portugal'}, xlabel='Date'>"
      ]
     },
     "execution_count": 30,
     "metadata": {},
     "output_type": "execute_result"
    },
    {
     "data": {
<<<<<<< HEAD
      "image/png": "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\n",
=======
      "image/png": "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\n",
>>>>>>> ab98c929639cbecc88617c0fc74767f6e3b5df7e
      "text/plain": [
       "<Figure size 432x288 with 1 Axes>"
      ]
     },
     "metadata": {
      "needs_background": "light"
     },
     "output_type": "display_data"
    }
   ],
   "source": [
    "vs.plot(title=\"España VS Colombia VS Portugal\")"
   ]
  },
  {
   "cell_type": "markdown",
   "id": "1a247e4f",
   "metadata": {},
   "source": [
    " ## Exportar datos "
   ]
  },
  {
   "cell_type": "code",
<<<<<<< HEAD
   "execution_count": 33,
   "id": "dec6bad3",
   "metadata": {},
   "outputs": [
    {
     "data": {
      "text/html": [
       "<div>\n",
       "<style scoped>\n",
       "    .dataframe tbody tr th:only-of-type {\n",
       "        vertical-align: middle;\n",
       "    }\n",
       "\n",
       "    .dataframe tbody tr th {\n",
       "        vertical-align: top;\n",
       "    }\n",
       "\n",
       "    .dataframe thead th {\n",
       "        text-align: right;\n",
       "    }\n",
       "</style>\n",
       "<table border=\"1\" class=\"dataframe\">\n",
       "  <thead>\n",
       "    <tr style=\"text-align: right;\">\n",
       "      <th></th>\n",
       "      <th>Cases</th>\n",
       "      <th>Lon</th>\n",
       "    </tr>\n",
       "    <tr>\n",
       "      <th>Date</th>\n",
       "      <th></th>\n",
       "      <th></th>\n",
       "    </tr>\n",
       "  </thead>\n",
       "  <tbody>\n",
       "    <tr>\n",
       "      <th>2020-01-22 00:00:00+00:00</th>\n",
       "      <td>0</td>\n",
       "      <td>-3.75</td>\n",
       "    </tr>\n",
       "    <tr>\n",
       "      <th>2020-01-23 00:00:00+00:00</th>\n",
       "      <td>0</td>\n",
       "      <td>-3.75</td>\n",
       "    </tr>\n",
       "    <tr>\n",
       "      <th>2020-01-24 00:00:00+00:00</th>\n",
       "      <td>0</td>\n",
       "      <td>-3.75</td>\n",
       "    </tr>\n",
       "    <tr>\n",
       "      <th>2020-01-25 00:00:00+00:00</th>\n",
       "      <td>0</td>\n",
       "      <td>-3.75</td>\n",
       "    </tr>\n",
       "    <tr>\n",
       "      <th>2020-01-26 00:00:00+00:00</th>\n",
       "      <td>0</td>\n",
       "      <td>-3.75</td>\n",
       "    </tr>\n",
       "    <tr>\n",
       "      <th>...</th>\n",
       "      <td>...</td>\n",
       "      <td>...</td>\n",
       "    </tr>\n",
       "    <tr>\n",
       "      <th>2022-03-31 00:00:00+00:00</th>\n",
       "      <td>11508309</td>\n",
       "      <td>-3.75</td>\n",
       "    </tr>\n",
       "    <tr>\n",
       "      <th>2022-04-01 00:00:00+00:00</th>\n",
       "      <td>11551574</td>\n",
       "      <td>-3.75</td>\n",
       "    </tr>\n",
       "    <tr>\n",
       "      <th>2022-04-02 00:00:00+00:00</th>\n",
       "      <td>11551574</td>\n",
       "      <td>-3.75</td>\n",
       "    </tr>\n",
       "    <tr>\n",
       "      <th>2022-04-03 00:00:00+00:00</th>\n",
       "      <td>11551574</td>\n",
       "      <td>-3.75</td>\n",
       "    </tr>\n",
       "    <tr>\n",
       "      <th>2022-04-04 00:00:00+00:00</th>\n",
       "      <td>11551574</td>\n",
       "      <td>-3.75</td>\n",
       "    </tr>\n",
       "  </tbody>\n",
       "</table>\n",
       "<p>804 rows × 2 columns</p>\n",
       "</div>"
      ],
      "text/plain": [
       "                              Cases   Lon\n",
       "Date                                     \n",
       "2020-01-22 00:00:00+00:00         0 -3.75\n",
       "2020-01-23 00:00:00+00:00         0 -3.75\n",
       "2020-01-24 00:00:00+00:00         0 -3.75\n",
       "2020-01-25 00:00:00+00:00         0 -3.75\n",
       "2020-01-26 00:00:00+00:00         0 -3.75\n",
       "...                             ...   ...\n",
       "2022-03-31 00:00:00+00:00  11508309 -3.75\n",
       "2022-04-01 00:00:00+00:00  11551574 -3.75\n",
       "2022-04-02 00:00:00+00:00  11551574 -3.75\n",
       "2022-04-03 00:00:00+00:00  11551574 -3.75\n",
       "2022-04-04 00:00:00+00:00  11551574 -3.75\n",
       "\n",
       "[804 rows x 2 columns]"
      ]
     },
     "execution_count": 33,
     "metadata": {},
     "output_type": "execute_result"
    }
   ],
   "source": [
    "df_es.set_index('Date')[['Cases','Lon']]"
   ]
  },
  {
   "cell_type": "markdown",
   "id": "b3e014c4",
   "metadata": {},
   "source": [
    "## Exportar datos"
   ]
  },
  {
   "cell_type": "code",
   "execution_count": 34,
   "id": "c8e7064f",
=======
   "execution_count": 31,
   "id": "7ad0bcf3",
>>>>>>> ab98c929639cbecc88617c0fc74767f6e3b5df7e
   "metadata": {},
   "outputs": [],
   "source": [
    "vs.to_csv('vs.csv')"
   ]
  },
  {
   "cell_type": "code",
<<<<<<< HEAD
   "execution_count": 35,
   "id": "565d27fd",
   "metadata": {},
   "outputs": [
    {
     "name": "stdout",
     "output_type": "stream",
     "text": [
      " El volumen de la unidad C no tiene etiqueta.\n",
      " El n£mero de serie del volumen es: 4E86-623A\n",
      "\n",
      " Directorio de C:\\Users\\jbohorquezv\\github\\PeriodismoDeDatos2-JuanCamiloBohorquez\n",
      "\n",
      "05/04/2022  16:25            33.417 vs.csv\n",
      "               1 archivos         33.417 bytes\n",
      "               0 dirs  546.728.689.664 bytes libres\n"
     ]
    }
   ],
   "source": [
    "%ls vs.csv"
   ]
  },
  {
   "cell_type": "markdown",
   "id": "bdb31e2d",
   "metadata": {},
   "source": [
    "## Exportar datos"
   ]
  },
  {
   "cell_type": "code",
   "execution_count": 36,
   "id": "db3ffd66",
=======
   "execution_count": 32,
   "id": "f1e29bee",
>>>>>>> ab98c929639cbecc88617c0fc74767f6e3b5df7e
   "metadata": {},
   "outputs": [
    {
     "data": {
<<<<<<< HEAD
      "image/png": "iVBORw0KGgoAAAANSUhEUgAAAXsAAAEdCAYAAADtk8dMAAAAOXRFWHRTb2Z0d2FyZQBNYXRwbG90bGliIHZlcnNpb24zLjMuNCwgaHR0cHM6Ly9tYXRwbG90bGliLm9yZy8QVMy6AAAACXBIWXMAAAsTAAALEwEAmpwYAAA0vUlEQVR4nO3deXxU1d348c93Jvu+s4UlbGFfw6IiAlVEqiIVLUhVbC0PtfjU2vrU9nl+1q6P2ro+WilSi1XrVrHivoIIiOz7GkKAsGQl+zoz5/fHHTCEEJIwmZlkvu/Xa14zc++5935nuPPN4dxzzxFjDEoppTo2m68DUEop1fY02SulVADQZK+UUgFAk71SSgUATfZKKRUANNkrpVQA8GmyF5HnRSRPRHY2o+zjIrLV/dgvIsVeCFEppToE8WU/exGZCJQD/zDGDGnBdncDI40x32+z4JRSqgPxac3eGLMKKKq/TET6iMiHIrJJRL4UkQGNbDoHeMUrQSqlVAcQ5OsAGrEYWGCMOSAi44C/AFNOrxSRnkAa8LmP4lNKqXbHr5K9iEQBlwJviMjpxaENis0G/mWMcXozNqWUas/8KtljNSsVG2NGNFFmNvBj74SjlFIdg191vTTGlAKHROQmALEMP71eRNKBeOArH4WolFLtkq+7Xr6ClbjTRSRHRH4AzAV+ICLbgF3AjHqbzAFeNTpUp1JKtYhPu14qpZTyjgvW7C9045OIzBWR7e7H2vrNLkoppfxDc5pxlgLTmlh/CLjCGDMM+B1W10mllFJ+5IK9cYwxq0SkVxPr19Z7uw5Ibc6Bk5KSTK9e592tUkqpRmzatKnAGJPc0u083fXyB8AHzSnYq1cvNm7c6OHDK6VUxyYih1uznceSvYhMxkr2E5ooMx+YD9CjRw9PHVoppdQFeKTrpYgMA5YAM4wxhecrZ4xZbIzJMMZkJCe3+H8hSimlWumik72I9ACWAbcaY/ZffEhKKaU87YLNOO4bnyYBSSKSA/waCAYwxiwCHgASgb+4x7NxGGMyWhNMXV0dOTk5VFdXt2Zz5RYWFkZqairBwcG+DkUp5Sea0xtnzgXW3wnc6YlgcnJyiI6OplevXtQbCE21gDGGwsJCcnJySEtL83U4Sik/4Vdj41RXV5OYmKiJ/iKICImJifq/I6XUWfxt1EtN9B6g36FSHU9VrZOSqrpWb+93yd7X7HY7Q4cOPfN+9uzZ3H///R7b/5o1a7jvvvtITk5m5syZzJs3z2P7Vkp1PE6X4Y2NR/nj+3sorXa0ej+a7BsIDw9n69atbbb/yy67jLVr1164oFIq4K0/VMT7O06wdG02NoGfXtmfex5u3b78qs3en91///0MGjSIYcOG8fOf/xyAefPmsWDBAi6//HL69+/Pu+++C0B2djaXX345o0aNYtSoUWeS+8qVK5k0aRKzZs1iwIABzJ07l9Ojjv72t79lzJgxDBkyhPnz56OjkSoV2LLyy7n5r1+xdG02PRMj2PLAVH5yZb9W789va/a/eWcXu4+XenSfg7rG8OvrBjdZpqqqihEjRpx5/8tf/pKrrrqKt956i7179yIiFBcXn1mfnZ3NF198wcGDB5k8eTKZmZmkpKTwySefEBYWxoEDB5gzZ86ZoSG2bNnCrl276Nq1K5dddhlr1qxhwoQJLFy4kAceeACAW2+9lXfffZfrrrvOo59fKeX/8stq+PpQIQv/uQWAv92ewYR+SYQG2S9qv36b7H2lsWYch8NBWFgYd955J9/+9re59tprz6y7+eabsdls9OvXj969e7N3717S0tJYuHAhW7duxW63s3//N/eajR07ltRUa6y4ESNGkJ2dzYQJE1ixYgWPPPIIlZWVFBUVMXjwYE32SgWYkqo6rnlyFQXltQA8fctIpgxI8UinC79N9heqgXtTUFAQ69ev57PPPuPVV1/l6aef5vPPPwfO7fkiIjz++ON06tSJbdu24XK5CAsLO7M+NPSb+dPtdjsOh4Pq6mruuusuNm7cSPfu3XnwwQe166RSAWRNZgGf7M5l6dpsAO69qj/XDe9KWlKkx46hbfbNUF5eTklJCdOnT+eJJ544q+b/xhtv4HK5OHjwIFlZWaSnp1NSUkKXLl2w2Wy8+OKLOJ3OJvd/OrEnJSVRXl7Ov/71r7b8OEopP/LC2my+97evWbo2m9T4cB6ZNYwfT+7r0UQPflyz95WGbfbTpk3jJz/5CTNmzKC6uhpjDI8//viZ9enp6VxxxRXk5uayaNEiwsLCuOuuu7jxxht54403mDx5MpGRTf+jxcXF8cMf/pChQ4fSq1cvxowZ01YfTynlJ7ILKvjLykxe35jDlQM78fQtIwkLvrh2+ab4bA7ajIwM03A8+z179jBw4ECfxNMa8+bN49prr2XWrFm+DuUc7e27VCqQfHkgnwUvbqKi1smVA1NY9L3RBNmb19AiIptaM/6Y1uyVUspLKmsdfJ1VxN2vbKF7QgRPzRlJv5Qor9z1rsn+IixdutTXISil2olah4s5z33NtqPFAPxp1nD6d4r22vE12SulVBszxvC7d3ez7Wgxv79hCON7J9A3xXuJHjTZK6VUmzpVUcvv39vDm5tz+OHlaXxvfE+fxKHJXiml2kid08UdSzew9Wgxg7rE8MtrfNdpQpO9Ukq1kac+O8DWo8X8YeYQZo1OxWbz3fDjelNVI06ePMns2bPp06cPgwYNYvr06WcNeVBfdnY2Q4YM8chxJ02aRMPuqADLly/noYce8sgxlFLekZlXzjMrMpk1OpW543pe9Ng2F0tr9g0YY5g5cya33347r776KgBbt24lNzeX/v37+ySm66+/nuuvv94nx1ZKtdzne3P5/lKr4vaLaQN8HI1Fa/YNrFixguDgYBYsWHBm2YgRI5gwYQL33XcfQ4YMYejQobz22mvnbFtdXc0dd9zB0KFDGTlyJCtWrACsLpo33HAD1113HWlpaTz99NM89thjjBw5kvHjx1NUVHRmHy+99BKXXnopQ4YMYf369We2X7hwIQDvvPMO48aNY+TIkVx55ZXk5ua25dehlGohYwwPf7CPELuN398whOTo0Atv5AX+W7P/4H44ucOz++w8FK5pujlk586djB49+pzly5YtY+vWrWzbto2CggLGjBnDxIkTzyrzzDPPALBjxw727t3L1KlTzzT/7Ny5ky1btlBdXU3fvn15+OGH2bJlCz/96U/5xz/+wT333ANARUUFa9euZdWqVXz/+99n586dZx1jwoQJrFu3DhFhyZIlPPLIIzz66KOt/UaUUh72VVYh+3LLeGTWMG7O6O7rcM7w32TvZ1avXs2cOXOw2+106tSJK664gg0bNjBs2LCzytx9990ADBgwgJ49e55J9pMnTyY6Opro6GhiY2PPDF88dOhQtm/ffmYfc+bMAWDixImUlpaeNXY+QE5ODt/97nc5ceIEtbW1pKWlteXHVkq10JIvDxEXEcz1w7v6OpSz+G+yv0ANvK0MHjy40VEnmzOGUFNl6g9tbLPZzry32Ww4HN/MK9nYkMn13X333dx7771cf/31rFy5kgcffPCCcSmlvONkSTWf783jniv7temgZq2hbfYNTJkyhZqaGp577rkzyzZs2EB8fDyvvfYaTqeT/Px8Vq1axdixY8/aduLEibz88ssA7N+/nyNHjpCent6i45++FrB69WpiY2OJjY09a31JSQndunUD4IUXXmjx51NKtZ3DhRUAjOoR7+NIzuW/NXsfERHeeust7rnnHh566CHCwsLo1asXTzzxBOXl5QwfPhwR4ZFHHqFz585kZ2ef2fauu+5iwYIFDB06lKCgIJYuXXpWjb454uPjufTSSyktLeX5558/Z/2DDz7ITTfdRLdu3Rg/fjyHDh262I+slPKQnFNVAKTGh/s4knPpEMcdlH6XSnnXz9/YxrLNORhgz2+ntVkzTmuHOL5gM46IPC8ieSKy8zzrRUSeEpFMEdkuIqNaGoRSSrVnZdV1vL31GGN6JfCnWcP9rr0emtdmvxSY1sT6a4B+7sd84NmLD0sppdqPVfsLqHMafjY1nVmjU30dTqMumOyNMauAoiaKzAD+YSzrgDgR6eKpAJVSyt99svsk8RHBjOoR5+tQzssTvXG6AUfrvc9xLzuHiMwXkY0isjE/P7/RnfnqGkJHot+hUt7jchlW7MtnyoBOzZ5a0Bc8EVljw7g1mm2MMYuNMRnGmIzk5ORz1oeFhVFYWKjJ6iIYYygsLCQsLMzXoSgVEE6WVlNSVcdIP67Vg2e6XuYA9e8JTgWOt2ZHqamp5OTkcL5av2qesLAwUlP9s91QqY7mSFElAD0TI3wcSdM8keyXAwtF5FVgHFBijDnRmh0FBwfr7f9KqXYjt7Sa7y35GoCeCZE+jqZpF0z2IvIKMAlIEpEc4NdAMIAxZhHwPjAdyAQqgTvaKlillPInK/fl4XAZJqcn++WNVPVdMNkbY+ZcYL0BfuyxiJRSqp3YeayU6NAg/nb7GJ/OQtUc/nvpWCml/NzO4yUM6hrj94keNNkrpVSrOF2GPSdKGdIt9sKF/YAme6WUaoWD+eVU17kY3DXG16E0iyZ7pZRqhZ3HSgAYqjV7pZTquHYeKyUs2Ebv5Chfh9IsmuyVUqoVdh4rYVCXGOzt4OIsaLJXSqlW2XuylIFd2kd7PWiyV0qpFqt1uCitdtA5pv2MQaXJXimlWuhUZS0A8ZEhPo6k+TTZK6VUCxVVWMk+UZO9Ukp1XPllNYDW7JVSqsM6XlzFbc+vByApSpO9Ukp1SNuOFgMwd1wP+rSTPvagyV4ppVokM68cgP/+9kBE2kcfe9Bkr5RSLZKZX063uHAiQjwx95P3aLJXSqkWyMwrp09K+2m+OU2TvVJKNZPLZTiYX07fdtRWf5ome6WUaqZjxVVU17noqzV7pZTquDLzrYuzmuyVUqoD23eyDNBkr5RSHdpXBwvpkxxJQju6c/Y0TfZKKdVMB3LLGJ4a5+swWkWTvVJKNdOpyrp2WasHTfZKKdUs1XVOquqc7Wrws/o02SulVDMUV9YBEBcR7ONIWqdZyV5EponIPhHJFJH7G1kfKyLviMg2EdklInd4PlSllPKdMxOWRHTQmr2I2IFngGuAQcAcERnUoNiPgd3GmOHAJOBREWmf34hSSjVQWevg2v9bDXTsmv1YINMYk2WMqQVeBWY0KGOAaLGGgIsCigCHRyNVSikf2XeyDKfLMDw1llE94n0dTqs0J9l3A47We5/jXlbf08BA4DiwA/iJMcbVcEciMl9ENorIxvz8/FaGrJRS3pVdWAHAozePICzY7uNoWqc5yb6xAZtNg/dXA1uBrsAI4GkRiTlnI2MWG2MyjDEZycnJLQxVKaV841B+BTaBHgkRvg6l1ZqT7HOA7vXep2LV4Ou7A1hmLJnAIWCAZ0JUSinfOlRYSWp8BCFB7bcDY3Mi3wD0E5E090XX2cDyBmWOAN8CEJFOQDqQ5clAlVLKVw4VlNMrKdLXYVyUC061YoxxiMhC4CPADjxvjNklIgvc6xcBvwOWisgOrGafXxhjCtowbqWU8gpjDNkFlYxupxdmT2vWvFrGmPeB9xssW1Tv9XFgqmdDU0op3ysor6W8xkFaO6/Zt98GKKWU8oJDBVZPnPbejKPJXimlmpDlnrCkd1L7G8O+Pk32SinVhL0ny4gMsZMaH+7rUC6KJnullGrCvpNl9O8cjc3W2C1H7Ycme6WUakJuWTVdY9t3rR402SulVJOKKmrb7YQl9WmyV0qp86hzuiiurCMxSpO9Ukp1WAXlNQAkas1eKaU6JofTxcRHVgCQHB3q42guniZ7pZRqRH55DXVOw9BusUxKT/F1OBdNk71SSjUit9Rqwrnnyn7tdgz7+jTZK6VUI3JLqwFIiQ7zcSSeocleKaUa8fCHewHoFNP+2+tBk71SSp2j1uHiSGElPRMjOsTFWdBkr5RS5ziQV4bDZfjZ1HRE2vcwCadpsldKqQZ2HS8FYHDXc6bSbrc02SulVAO7jpUQEWInLbF9j2FfnyZ7pZRqILuwkt7Jke1+pMv6NNkrpVQDJVV1xEe0/yES6tNkr5RSDZRW1RETHuzrMDxKk71SSjVQUlVHTJgme6WU6rCMMZRW1xGrNXullOqYjDEczK+gzmk02SulVEf16Z48rnzsCwCSOsCEJfUF+ToApZTyFztyirEJPH3LKKYMaP/DGtfXrJq9iEwTkX0ikiki95+nzCQR2Soiu0TkC8+GqZRSbS+roILuCRFMH9qlQwxrXN8Fa/YiYgeeAa4CcoANIrLcGLO7Xpk44C/ANGPMERHpWH8SlVIBYe/JMvokR7XdAWrKoOoUVBVDdTFUl4CjBhzV1rOz9ptnZy24nOBygHFZzy5nqw/dnGacsUCmMSYLQEReBWYAu+uVuQVYZow5AmCMyWt1REop5QOF5TVk5pXznVHdLn5nlUVwbDOc3AYnd0DhQTh1GGpKWrATAVsQ2OzWs9jB1vrLrM1J9t2Ao/Xe5wDjGpTpDwSLyEogGnjSGPOPVkellFJetiG7CIBxaQmt24ExkLUCNj4P+z4EV521PK4nJKdD93EQmwoRCRAWB+FxEBYLQeEQFAJBYWAPgaBQsIeC/Tzp+f7WDeHQnGTf2J5NI/sZDXwLCAe+EpF1xpj9Z+1IZD4wH6BHjx4tj1YppdrIhuxThAXbGNotruUb5++DD38JBz+DiCQYOx/Sr4HOQ62k7geak+xzgO713qcCxxspU2CMqQAqRGQVMBw4K9kbYxYDiwEyMjIa/sFQSimfyS6oIC0pipCgFjSVuJyw6s/wxcMQEgVX/y+MudOqqfuZ5iT7DUA/EUkDjgGzsdro63sbeFpEgoAQrGaexz0ZqFJKtaXjJdV0jW3BfLPl+bDsh1bTzdCbYNpDEJnUdgFepAsme2OMQ0QWAh8BduB5Y8wuEVngXr/IGLNHRD4EtgMuYIkxZmdbBq6UUp5gjOHrQ0UcO1XJ6J5xzduo9Dj87WqoyIPrnoJRt4Gfz2jVrJuqjDHvA+83WLaowfs/AX/yXGhKKdX2Ptp1kgUvbQYgLakZ3S6rS+Hlm6wulHd8AN1GtXGEnqF30CqlAtqyzcdIigrlb7dnXHgaQkctvH4r5O+FuW+0m0QPOjaOUiqAHS2q5NM9ucwancrw7nEE2ZtIicbAO/8JWSvh+v+DPlO8FqcnaLJXSgWsf64/gk2EeZf2unDhL/8M216Byf8NIxr2UfF/muyVUgHpiU/38+zKg4zvnUjnC/XCyV4DK/5o9bqZeJ93AvQwTfZKqYCzdM0hnvj0AH1TorhrUp+mCxcfhTd/APG94NrH/b7XzfnoBVqlVED5Yn8+v3l3N1MHdeLZ743GbmsieVeXwsuzoLYS5v4LQqO9F6iHabJXSgWEkyXVPPD2Tj7enUuvxAiemjOy6UTvrIM374SCA3DrW9B5iPeCbQOa7JVSHdqmw6dYuS+PRV8cxOEyzB3Xg5syujc9Xn3BAWusm8xP4NuPQe8rvBdwG9Fkr5TqcMqq69iQXcTzq7NZnVkAQEJkCI/dPJxJ6Q2m2zDGukGqPA+KsmDXMtj5pjUK5fQ/w5gf+OATeJ4me6VUu+dyGXafKGX38VJW7s/jsz15iKOKXqEVPHFZJFd1F8JqjmM/th725VqJvbze8+nhiMEadnj8XXDZPRCV7LPP5Gma7JVSfq3W4eJUWTnFhXlUl+ZTWVJA2ak8qkoKqCsvhKpT2KpOEeoooaeUcp+thMdCSgkLqrB2sMn9AEAgMhmiOkFUCiQPsJ5Pv4/uAqkZ1pjyHYwme6WUdzhqcVYVU3KqkNLifMpLiqgqLaS6vBhHxSnsNcUE15YQXFtCaF0xYY5SIl1lxJoyOkkNnc63W+xU2WMwsfEEx6QQHDuAoJjO9ZJ4vUdE4vknBengAvNTK6UujrMOSo5azSAVBVCRD5UFUFFAdWk+ZcWFmKpipLqE4LpSwpzlhFGDHUhwPxqqw04ZUZTboqmyx1Ad3oWK0IHkhschEQkERyYSFJVAWEwyCUmdiIpPQsITCAqNJrqd9n33Jk32SqnzqymDY5usmZgKD0LRQesi5qnDYM6d/LqcCIpMJCUmklITSZkkY0L7QWQstvA4giLjCImMJywqnoiYBKLjkoiNTyQ6NoHgsBgSRBr9Q6AuniZ7pdTZcnfB7rdh/4fWZNnGZS0PiYKE3tBlONXpM/iyMIYPsg37ysIoNNHEJHZhRFoK3eMjuKRPIv0SI4iPCCG4qcHFlNdosldKQV017HgdNi21avJisybInvhf0H0sdBoCUSnsPF7Knz7axxeb8gG4rG8i353cmUFdYhjdMx7R5hS/pcleqUBWWwmbX4DVT0D5SUgeaE2vN/Sms6bYs25KWse6rCLiIoK5e0pfRveMP7fPuvJbmuyVClTHNsO/vg+nDkGvy+HG56znerVzYwwPLt/FC18dJjU+nBtHpfLAtYOIjQj2YeCqNTTZKxVojIF1z8InD1jdEW97G3pPOqfYhztPct8b2yircXDbJT351fSBTQ8xoPyaJnulAklNGSybD/veh/TpMOMZiDi3/8uLX2XzwPJdDO4aw8yRqcy7tFfTg4Ypv6fJXqlAUXocXr4Z8nZb7fLjFpwzNnuNw8kzn2fy1OeZTEpP5tm5owkP0dp8R6DJXqlAUJ4Hf59u3fw093Xoe+U5RRxOFz95ZSsf7jpJUlQIv5sxRBN9B6LJXqmOrroEXvqONeDXbcuh+5hGi/3+vT18uOskD1w7iO9PSPNykKqtabJXqiOrq4ZX50LeHpjzWqOJvrrOyW/e2cUr648yZ2wPTfQdlCZ7pToqlxOW3QnZX8J3lkC/c5tujDH817+288724wzvHnfh+VhVu9Ws+5hFZJqI7BORTBG5v4lyY0TEKSKzPBeiUqpVPv017HkHrv5fGHZTo0WWfHmI5duO8/Op6bz948vonhDh5SCVt1ww2YuIHXgGuAYYBMwRkUHnKfcw8JGng1RKtdCWl2Dt/8GYH8Ild52z2hjD4lUH+cP7e5iUnqw1+gDQnJr9WCDTGJNljKkFXgVmNFLubuBNIM+D8SmlWurIOnjnHutGqWkPNVrk+TXZ/PH9vcSGB/Of3+qnY9oEgOa02XcDjtZ7nwOMq19ARLoBM4EpQOOX+pVSba/4KLz2PYjrDjctbXSijm1Hi3nogz1cNagTi28drYk+QDQn2Td2JpgG758AfmGMcTZ14ojIfGA+QI8ePZoZolKqWWor4JU54KiBee9DePxZq4sra/n18l28s+04XWLD+dOsYZroA0hzkn0O0L3e+1TgeIMyGcCr7hMnCZguIg5jzL/rFzLGLAYWA2RkZDT8g6GUai2XC/79I8jbBbe8Dsn9660yrDlYwL2vb6OoopbJ6SncO7U/cREhPgxYeVtzkv0GoJ+IpAHHgNnALfULGGPOdMwVkaXAuw0TvVKqjRgDH/3KmnBk6u+h31WU1zg4WlTJBztP8s+vj1BQXkNaUiR/nzeGId1ifR2x8oELJntjjENEFmL1srEDzxtjdonIAvf6RW0co1LqPPbnlsHqx+m/41m+TLyJxbvHkLXqc44VVwHW0DeT01O4pHci14/oSqeYMB9HrHxFjPFNa0pGRobZuHGjT46tVHtTXecku7CC/bnl7DxWwqGCCjLzyulb9AXPhTzG285L+UPoT+kSF0FqfASDusaQGh/OyO7x9EjUvvMdiYhsMsZktHQ7vYNWKT9TWl3H3hNl7D5ewp4TZew5WcqOYyWcrpeFBNnolRjBpOjj/LJqEZUJw5lwyyusj4/zadzKv2myV8qHnC7D7uOlfH2okN3HS9l4+BRHiirPrE+IDKFXYgR3T+5L307R9EiIYEjXGIKOfgUv/wwiEwj53itExMb57kOodkGTvVJeVlXrZNWBfFbuy2PF3nxOllYDEBZsY1L/FG7OSGVw11gGdY0hJTr03O6RJ3fAK7Mhtjvc/g5Ed/LBp1DtjSZ7pbzA6TKsyypkyZdZbDp8itJqB9GhQYzoEcd9V6czoV8SSVGhF54NqigLXvwOhMbArcs00atm02SvVBtxugxrMgt4c3MO6w8VcaKkmuToUC7pk8jsMT2Y0C+JYHuzxiK0FB+FF64HlwPmvQuxqW0XvOpwNNkr5UHGGDZkn2LZ5hzWHizkSFElcRHBDOwcw52X92bO2O5EhLTiZ5e/H16cac0he/tySE73fPCqQ9Nkr9RFqHE42XKkmK8OFrLxcBG7jpdSXFlHZIidAV1i+NGkPswc2Y2w4IuY3i9nE7w8C2x2mPcOdBnuuQ+gAoYme6UakZlXRu+kKGwN2tBzS6vZdrSYI0WVrNiXx8bsU9Q4XNgEBnSOYUp6Cpf2TWL60M6tq8HX53LBxr/BJw9AZDLc+hYk6lDEqnU02SuFNdn2+ztP8vGuk3yxL5+yGgc/u6o/Q1Jj2XCoiPWHijhSVEleWc2ZbbrFhTN3XE8u6ZPI2LQEYsODPRdQURa8fTccXg19vgU3/AWiO3tu/yrgaLJXAS0zr4yX1h3hzc05lFU7SIoKZergzry5OYdHP9kPQJBNGJYay6T0ZHomRnJpn0S6xoWTGBlCUEsusDaHywXrF8NnvwFbMMx4BkbMtcY9UOoiaLJXAWnnsRKe+HQ/n+7JI8RuY+rgTnxrYArXD++G3SbcfmlPNh8+xcAuMfRJiSIpKrTtgyo8CG8vhCNrod9UuPYJiO3W9sdVAUGTvQo4f19ziD+8t4fY8GCmDurEb2YMpkts+FllhqXGMSw1zjsBuZzw9SL47HcQFAI3LILhs7U2rzxKk70KGIXlNfz8jW2s2JfPlAEpPHbzcN+P6V5wAN7+MRz9GvpPs2rzMV18G5PqkDTZq4BQ53Rx18ub2XK0mGmDO/OHmUN8m+iNsWrznz4IQWEwczEMu1lr86rNaLJXAeHhD/by9aEinvjuCG4Y6eN28IpCWH437HvPqs1f96T2tFFtTpO96vDWZBawZPUhZo7s5vtEv+8D+Pdd1p2w0x6CcQu0Nq+8QpO96tBWHyjge3/7GoAbR/lwLJm6Kvjst7DuL9B5GHxnMaQM9F08KuBoslcdVkWNg/uXbSc1PpxXfjie7gk+mrEpZyO89R9QmAljfmjNExus0wMq79Jkrzqspz4/QM6pKl7/j0t8k+gdtbDqEfjyUYjpBre9Db0neT8OpdBkrzqowvIanl99iCsHdmJsWoL3A8jZBO/eAye3W3fATvtfCIv1fhxKuWmyVx1OflkNk/+8kjqnYVJ6svcO7HLB4TXw1dOw/0Nr8LLvvgQDr/NeDEqdhyZ71eE89sk+KmodPPSdoXzHGxdl8/fD9ldh++tQchTC4mDK/4Nx/wGh0W1/fKWaQZO96lA2ZBfxyvqj3Dkhjdlje3j+AC6ndaH1xHY4ug6yV0P+XhCbNTrllQ9C+nQI8dHFYKXOQ5O96lAWrTxIp5hQ7p3a/+J25KiBU9lWYi88CEUH4eROyN0FjiqrTEgUdB8Ho26DITfqjVHKr2myVx1CndPFHX/fwOrMAm6/pGfzJw6pq4a8XZC3B/L3QcF+63EqG4zrm3LhCZAyCDLusPrJdxkGSelg15+Qah/0TFUdwuJVWazOLOD64V2Zf0UTszlVFll3sR75Co5vsZK8cVrr7CGQ2NdK5kNmQVI/SOgDib0hPN47H0SpNtKsZC8i04AnATuwxBjzUIP1c4FfuN+WAz8yxmzzZKBKnc+2o8U8+dkBrhnSmafmjDy3gNNh9Y7Z9grs/whcddZF1NQM6H+1ldw7DYH4XlpTVx3WBc9sEbEDzwBXATnABhFZbozZXa/YIeAKY8wpEbkGWAyMa4uAlapv5b487v7nFmLDg/ndDUPOXllXBVv/CWufspplIlOsHjJDb7ISvM3Ds0wp5ceaU40ZC2QaY7IARORVYAZwJtkbY9bWK78O8OEgJCpQ/PPrI/zqrR0A/PSq/mfPJrXnXXjvXijPhW6j4arfWb1ktOauAlRzzvxuwNF673Noutb+A+CDxlaIyHxgPkCPHm3QLU51eLUOF+9uP87u46UsWX2I7gnhfPiTiUSGuk/lyiL44Bew43XoMhxu/Bv0mqAjS6qA15xk39ivxDRaUGQyVrKf0Nh6Y8xirCYeMjIyGt2HUo2prHWw6fAp/vj+XvacKAVgyoAUnpw94ptEv/8jWP6fUFkAk34Fl98L9mAfRq2U/2hOss8Butd7nwocb1hIRIYBS4BrjDGFnglPBTJjDDuPlfL3tYf4cOdJKmudxEcEs+h7oxnfO4HY8GBEBKpL4MNfwdaXIGUwzHXX6pVSZzQn2W8A+olIGnAMmA3cUr+AiPQAlgG3GmP2ezxKFVBKqup4Y+NR3tiYw77cMkKDbHxnVDcu65tERs8EOsfWGx448zNr1qeyE3D5z+CKX0BQ6Pl3rlSAumCyN8Y4RGQh8BFW18vnjTG7RGSBe/0i4AEgEfiLWG2jDmNMRtuFrToSl8uw41gJn+3J5bO9eew6bjXTjOwRx2+uH8yUASnnDlFcegJW/i9sfgGS+sMPPoXU0T6IXqn2QYzxTdN5RkaG2bhxo0+OrXyvus7JuqxCPt6dy8e7cikorwFgcNcYrh7cmRHd45jYv5ERKyuLYNWfYcMScDlg/I9gyv9AcLiXP4FSviEim1pTmdZ+aMqr6pwulq7J5q+rsigor8FuE6YN6cyVA1PI6Jlw/klGSk/A6sdg84vgqLbGiJ/4c0hI8+4HUKqd0mSvvKKy1sHL647w7BcHKaqo5ZLeiTwyayjpnWPoFtdErbyiAFY//k1NfvhsGP9j6DTIe8Er1QFosldtyuUyvLfjBL9/bze5pTVc1jeRmzO6c92wrthsTfR9Lz4CG5+Hrxdbo0wOmw1X/JfW5JVqJU32qs3UOV3c9fJmPtmdS2iQjb/eOpqrBzcxDHBNGRxcAVteggMfW8sG32D1mU++yCGLlQpwmuxVm8grq2bWs19xpKiS+65O59ZLehIT1sgNTo5aOPARbH0FMj8BZy1Edbba40fdBnF6p7VSnqDJXnncW1ty+Olr1qCnc8f14K5JfZD6wxUYAye2wjb3VH5VRdYgZWPutMav6TFe73xVysM02SuPevnrw/z3Wzu5pHcid16exuT0FCvRO+usKfz2fWA9So5Y48enT7d61vSZooOUKdWG9NelPKK6zskf3tvDi+sOc1nfRJ6fN4ZQRzns+Tfsfd9qqqkugaAw6D0ZrrgPBlwLEQm+Dl2pgKDJXl20wvIa/uPFTWw8fIox3cJ4ZGAWoW88CQc+sSYKCU+wEnv6dKsGr5NxK+V1muzVRdl9vJSFL28ipWQbqwbsoMfxj+CTMusi69j5MODb1qTc2kSjlE/pL1C1isPp4o2Pv+Dwmtd4zraSPkEn4FgkDJoBw78LvS4Hm93XYSql3DTZq+arq8ZkryZn/dvYsz5ljvM4BEFV5zG4xvwK25CZEBrt6yiVUo3QZK+aduowHPgYx/5PkENfYHdWk2yCWesazL5+c5l07VzC9a5WpfyeJnt1NkctHPnKuoP1wCdQsA+AE6YTnzknsi1sLOOnzOD6jD6Eh2gzjVLthSZ7BaXHrcR+4GPIWgm15bhswewIGsrbdbey0jWc9EEjmT6sKw/0TSI+MsTXESulWkiTfSByOSFnI+z/wEryuTutxTHd2Jt0Na+XDOT1wt7ExMQxbVxnfjeoE5f1TfJx0Eqpi6HJPlA46yDrC9j1Fuz/0JqU2xYEPS6h9PIHeK9qCH/caCjLc9IvJYobxyfyX9PSiW5sPBulVLujyb4jOz0GzdZ/wo5/WWPQhMZCv6sg/RpyO03kz1+c4O3Pj1PrdNAzMYKX7xzJsNQ4X0eulPIwTfYdUXUpbH8NNr0AuTvAHgoDpsPQmzB9vsW/tuXz5lc5rMvagIg1WNmcsT3omxJFaJBedFWqI9Jk35GU58PXz8L6JVBTAp2HwvQ/w9BZrDnmZPnW43z8+ipOVdbROymS/5zSl8kDUhjZI97XkSul2pgm+46gKAu++gtseREcNTDwOrjsHtbV9OTdHSf4YuUWjhZVER0axMT+yVzWN4k5Y7ufPeywUqpD02TfXhkDWSvg67/C/o8wtiDy0m5gZdIcPsqNYc+LxZwoOUlEiJ1L+yQyd1xP5l3ai7BgbaZRKhBpsm8HjDFU1DopLK+h9MRBQvf9m05ZbxJbkU2JxPKG7UYWV04mb1c8UE3vZDtj0xIYnhrHnLE99OYnpZQm+4aq65yEBduprnNSWlVHZa2TiloHVbVOKmudlNc4qK5zUud0Ues01Dlc1DldOFyGWvdr62FwugwOlwuH0+BwuR/ust88u8uceW2tc7oMde5tQypPcKXrK661r2OkLROATa5+LLPfzaFOV5GaFMftiZEM7hpDt7hw+qZEaRONUuosAZvs65wuDuSWs/tEKdtzitmeU0J2YQXFlXWEBtmocbhatd9guxBksxFkF4LtNuw2Idgm2O1CsM16H2S3EWQTguxiPdtshAVbr+02GyE2QyfnCQZXbWJU2ef0tm8HO5yKGcjBtJ/jGHADKZ368Lu4cGw2TepKqQtrVrIXkWnAk4AdWGKMeajBenGvnw5UAvOMMZs9HOtFqXW4WJdVyOd789hytJg9J0qpdSf08GA7I7rHMX1oF2LDg6lzuEiICiEmLJiIEDsRIXbCQ4KICLETFWo9B9uthB5itxF85iEtq1EbA+V5ULAfCg9AwQHI3wvHNlmzOgGkDIJx/wODZxKf1BftN6OUao0LJnsRsQPPAFcBOcAGEVlujNldr9g1QD/3YxzwrPvZp4oqavnqYCEf7z7J53vzKKt2EB5sZ1hqLLeN78nQ1FgGd42lZ2IEwXab5w7sqIGaMqgptZ6rS6AsF8pOQLn7+VQ2FGRaXSRPC46AxD7WmPDdMqyJt5PTPReXUipgNadmPxbINMZkAYjIq8AMoH6ynwH8wxhjgHUiEiciXYwxJ86304qiE6x7+bcYA2CwNgWMVds2xlg1XwxWEWO9MpyznNPLMdTUWW3sJZW1FFfWAjA42MZ1yRH0ToqiR0I4QafzeoGxHmf2g3tf9WJx1rofdY2/dtRCbYWV2GvLreTurD3/txkUDtGdIa47DLsJkvpDUj9I7Acx3cDmwT86Sinl1pxk3w04Wu99DufW2hsr0w04K9mLyHxgPsDoLjbGH3i0pfG2zOlPZ4B8gYLTTSwCcp7XVqDu5TYICgH76Ufw2c+2YOt1XHdr0o7Tj5AoCI355n1YjDVNX3Qna7lePFVKeVlzkn1jmcm0ogzGmMXAYoCRI0eY0ns+RRBsIogNBBsiIDY589pmsyGItVxs50/Sjb3WpKqUUkDzkn0O0L3e+1TgeCvKnMVuDyImTofNVUopb2hOA/EGoJ+IpIlICDAbWN6gzHLgNrGMB0qaaq9XSinlXRes2RtjHCKyEPgIq+vl88aYXSKywL1+EfA+VrfLTKyul3e0XchKKaVaqln97I0x72Ml9PrLFtV7bYAfezY0pZRSnqL9/JRSKgBosldKqQCgyV4ppQKAJnullAoAcmaYAm8fWKQM2FdvUSxQcp7ijWlpeYAkoKCF27TmOC3dxl/jAu/EFshx+eu/o7/G1ZrjdLS4Eo0x0S3czhqDxhcPYGOD94tbuH2Lyjd2zDY8Tks/i1/G5a3YAjkuf/139Ne4/PXf0ZtxtSY2Y4xfNeO808blW6s1x/FGbP4aV2uOE8hx+eu/o7/G1ZrjBHpcgG+bcTYaYzI6+jGbw1/jAv+NTeNqGY2rZfw5LoDWxObLmaoWB8gxm8Nf4wL/jU3jahmNq2U6XFw+q9krpZTyHn9qs1dKKdVGNNkrpVQA6JDJXkRmiogRkQG+jqUxIlJ+gfUrRcRrF4dEJFVE3haRAyJyUESedA9nfb7y94hIhJdia/K78gU9v1ocj55fLdBW51eHTPbAHGA11tj7zeaeXD2giIgAy4B/G2P6Af2BKOAPTWx2D+CVH6Of0vOrmfT8apW2Ob9a0znfnx9YJ9IxrJNqr3vZJGAV8BbWROmLAJt7XTnwW+BrYIKXYix3x/RuvWVPA/Pcr1cCGV6K5VvAqgbLYoBCIBL4M7AD2A7cDfwnUOtetsJL31UU8Bmw2X3cGe51vYA9wHPALuBjIFzPLz2/9Pw699ERa/Y3AB8aY/YDRSIyyr18LPAzYCjQB/iOe3kksNMYM84Ys9rbwfqBwcCm+guMMaXAEeBOIA0YaYwZBrxsjHkKa8rJycaYyV6KsRqYaYwZBUwGHnXXGAH6Ac8YYwYDxcCNbRzLDej51RJ6frXMDbTR+dURk/0c4FX361fd7wHWG2OyjDFO4BVggnu5E3jTuyH6FaGRyeHdyycCi4wxDgBjTJE3A2sQyx9FZDvwKdAN6ORed8gYs9X9ehNWbawt6fnVMnp+tUybnV++vKnK40QkEZgCDBERgzWNosGaZavhCXf6fbX7C/Q2B2f/sQ3zQQxg/ff0rNqKiMRgTSCfReM/VG+bCyQDo40xdSKSzTffV029ck4gvK2C0POrVfT8aqa2Pr86Ws1+FvAPY0xPY0wvY0x34BDWX8Gx7knTbcB3sS6A+NJhYJCIhIpILFbbpi98BkSIyG1w5iLPo8BSrDbKBSIS5F6X4N6mDGj5qHutFwvkuX+Ik4GeXjx2fXp+tZyeX83XpudXR0v2c7AuYtT3JnAL8BXwELAT6wtsWM4r3Cd2jTHmKPA61oWpl4EtvojHWFd5ZgI3icgBYD9WG+avgCVYbavbRWQb1vcI1i3bH4jIiraM7fR3hfX9ZLjHBZkL7G3L4zZBz68W0vOrRdr0/AqI4RJEZBLwc2PMtT4OBREZDjxnjBnr61j8XXv5rvT8ap/ay3flqfOro9Xs/ZqILMC6uPI/vo7F3+l31XL6nTVfIH5XAVGzV0qpQKc1e+UXRKS7iKwQkT0isktEfuJeniAin7hvtf9EROLdy68SkU0issP9PKXevv4gIkf98VZ45RueOr9EJEJE3hORve79POTLz9USWrNXfkFEugBdjDGbRSQaq0/zDcA8oMgY85CI3A/EG2N+ISIjgVxjzHERGQJ8ZIzp5t7XeKzeKAeMMVG++DzKv3jq/HKP2TPOGLNCrPF9PgP+aIz5wCcfrAU02Su/JCJvY93i/zQwyRhzwv2DXWmMSW9QVrAmh+5qjKmpt7xck71qjCfOL/e6J7HuYH3OS6G3mjbjKL8jIr2AkVjjfXQyxpwAcD+nNLLJjcCWhj9EpRrjqfNLROKA67Bq936vQ91Bq9o/EYnC6lt8jzGm9JshSs5bfjDwMDDVC+Gpds5T55e7j/4rwFPGmKw2CtejtGav/IaIBGP9EF82xixzL851//f6dLtrXr3yqVg3l9xmjDno7XhV++Lh82sx1jWhJ9o8cA/RZK/8grtd9G/AHmPMY/VWLQdud7++HXjbXT4OeA/4pTFmjRdDVe2QJ88vEfk91hAL97Rt1J6lF2iVXxCRCcCXWOOJu9yLf4XVrvo60APr1vqbjDFFIvI/wC+BA/V2M9UYkycij2DdYt4Va7jcJcaYB73yQZRf8tT5BYQAR7GGVDjdhv+0MWZJm3+Ii6TJXimlAoA24yilVADQZK+UUgFAk71SSgUATfZKKRUANNkrpVQA0GSvAoaIOEVkq3u0wm0icq97mremtuklIrc0VUap9kCTvQokVcaYEcaYwcBVwHTg1xfYphffTJenVLul/exVwGg4CqaI9AY2AElYk0y/CES6Vy80xqwVkXXAQKx5P18AnsKaC3QSEAo8Y4z5q9c+hFKtpMleBYzGhjwWkVPAAKAMcBljqkWkH/CKMSaj4fyfIjIfSDHG/F5EQoE1WHddHvLmZ1GqpXTUSxXoTg97GAw8LSIjACfQ/zzlpwLDRGSW+30s0A+r5q+U39JkrwKWuxnHiTXS4a+BXGA41rWs6vNtBtxtjPnIK0Eq5SF6gVYFJBFJBhZhDWJlsGroJ4wxLuBWwO4uWgZE19v0I+BH7uFyEZH+IhKJUn5Oa/YqkISLyFasJhsH1gXZ08Pd/gV4U0RuAlYAFe7l2wGHiGwDlgJPYvXQ2eweNjcfay5TpfyaXqBVSqkAoM04SikVADTZK6VUANBkr5RSAUCTvVJKBQBN9kopFQA02SulVADQZK+UUgFAk71SSgWA/w97dyCD+zrfSwAAAABJRU5ErkJggg==\n",
=======
      "image/png": "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\n",
>>>>>>> ab98c929639cbecc88617c0fc74767f6e3b5df7e
      "text/plain": [
       "<Figure size 432x288 with 1 Axes>"
      ]
     },
     "metadata": {
      "needs_background": "light"
     },
     "output_type": "display_data"
    }
   ],
   "source": [
    "grafico = vs.plot()\n",
    "fig = grafico.get_figure()\n",
    "fig.savefig(\"vs.png\")"
   ]
  },
  {
   "cell_type": "code",
<<<<<<< HEAD
   "execution_count": 37,
   "id": "84eac899",
=======
   "execution_count": null,
   "id": "bb8177b3",
>>>>>>> ab98c929639cbecc88617c0fc74767f6e3b5df7e
   "metadata": {},
   "outputs": [
    {
     "data": {
      "image/png": "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\n",
      "text/plain": [
       "<Figure size 432x288 with 1 Axes>"
      ]
     },
     "metadata": {
      "needs_background": "light"
     },
     "output_type": "display_data"
    }
   ],
   "source": [
    "grafico = vs1.plot()\n",
    "fig = grafico.get_figure()\n",
    "fig.savefig(\"vs1.png\")"
   ]
  },
  {
   "cell_type": "code",
   "execution_count": null,
   "id": "0c210597",
   "metadata": {},
   "outputs": [],
   "source": []
  }
 ],
 "metadata": {
  "kernelspec": {
   "display_name": "Python 3",
   "language": "python",
   "name": "python3"
  },
  "language_info": {
   "codemirror_mode": {
    "name": "ipython",
    "version": 3
   },
   "file_extension": ".py",
   "mimetype": "text/x-python",
   "name": "python",
   "nbconvert_exporter": "python",
   "pygments_lexer": "ipython3",
   "version": "3.8.8"
  }
 },
 "nbformat": 4,
 "nbformat_minor": 5
}
